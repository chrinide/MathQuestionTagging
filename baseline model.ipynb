{
 "metadata": {
  "name": "",
  "signature": "sha256:2b0d78b47509c91547eef79addcf55f454058265604f61c0d9e940ac00bf7eb2"
 },
 "nbformat": 3,
 "nbformat_minor": 0,
 "worksheets": [
  {
   "cells": [
    {
     "cell_type": "code",
     "collapsed": false,
     "input": [
      "from __future__ import division\n",
      "import numpy as np\n",
      "import pandas as pd\n",
      "from time import time\n",
      "import ast\n",
      "\n",
      "from sklearn.cross_validation import train_test_split\n",
      "from sklearn.multiclass import OneVsRestClassifier\n",
      "from sklearn.svm import LinearSVC\n",
      "from sklearn.naive_bayes import MultinomialNB\n",
      "from sklearn.naive_bayes import BernoulliNB\n",
      "\n",
      "from sklearn.metrics import jaccard_similarity_score\n",
      "from sklearn.metrics import hamming_loss\n",
      "from sklearn.metrics import precision_score\n",
      "from sklearn.metrics import recall_score\n",
      "from sklearn.metrics import f1_score\n",
      "\n",
      "import matplotlib.pyplot as plt"
     ],
     "language": "python",
     "metadata": {},
     "outputs": [],
     "prompt_number": 1
    },
    {
     "cell_type": "code",
     "collapsed": false,
     "input": [
      "class BaselineFeatureExtractor():\n",
      "    def __init__(self, top_keywords):\n",
      "        \"\"\"\n",
      "        @params\n",
      "            - top_tags: pandas DataFrame of sorted keywords\n",
      "        \"\"\"\n",
      "        self.top_keywords = top_keywords\n",
      "        self.num_keywords = top_keywords.shape[0]\n",
      "        keywords = top_keywords['keyword'].values.tolist()\n",
      "        self.keywords = { k:keywords.index(k) for k in keywords}\n",
      "    \n",
      "    def label_features(self, keywords):\n",
      "        \"\"\"\n",
      "        Convert list of keyword strings to list of keyword indices\n",
      "        @params\n",
      "            - keywords: python list of keyword strings\n",
      "        \"\"\"\n",
      "        features = []\n",
      "        \n",
      "        for keyword in keywords:\n",
      "            if keyword in self.keywords:\n",
      "                index = self.keywords[keyword]\n",
      "                features.append(index)\n",
      "        \n",
      "        return features\n",
      "    \n",
      "    def binarize(self, indices ):\n",
      "        \"\"\"\n",
      "        Given a list of keyword indices, returns numpy array of \n",
      "        binarized features where binarized[i] == 1 if i in indices.\n",
      "        \"\"\"\n",
      "        binarized = [0 for i in range(self.num_keywords)]\n",
      "\n",
      "        for i in indices:\n",
      "            binarized[i] = 1\n",
      "\n",
      "        return binarized\n",
      "    \n",
      "    def x_y_train( self, x_data, y_data):\n",
      "        \"\"\"\n",
      "        Given list of input and output tags, return binary feature\n",
      "        representation suitable for input into scikit-learn\n",
      "        classifiers\n",
      "        \"\"\"\n",
      "        if len(x_data) != len(y_data):\n",
      "            # sanity check\n",
      "            print 'len(x) != len(y)'\n",
      "            return None\n",
      "        \n",
      "        t0 = time()\n",
      "        print 'Extracting baseline features for %d training samples and %d keywords\\n' % (len(x_data), self.num_keywords)\n",
      "        \n",
      "        x_train = []\n",
      "        y_train = []\n",
      "        zero_count = 0\n",
      "        \n",
      "        for i in range(len(x_data)):\n",
      "            x_feats = self.label_features( x_data[i] )\n",
      "            y_feats = self.label_features( y_data[i] )\n",
      "\n",
      "            if x_feats and y_feats:\n",
      "                x_train.append( self.binarize(x_feats) )\n",
      "                y_train.append( self.binarize(y_feats) )\n",
      "            else:\n",
      "                zero_count += 1\n",
      "\n",
      "        x_train = np.array(x_train)\n",
      "        y_train = np.array(y_train)\n",
      "        \n",
      "        t1 = time()\n",
      "        \n",
      "        return (x_train, y_train, zero_count, t1-t0)\n",
      "    \n",
      "    def y_true(self, y_data ):\n",
      "        \"\"\"\n",
      "        Given list of output tags, return binary feature representation \n",
      "        suitable for input into scikit-learn classifier predictors.\n",
      "        \"\"\"\n",
      "        t0 = time()\n",
      "\n",
      "        y_true = []\n",
      "        zero_count = 0\n",
      "        \n",
      "        for i in range(len(y_data)):\n",
      "            y_feats = self.label_features(y_data[i])\n",
      "\n",
      "            if y_feats:\n",
      "                y_true.append( self.binarize(y_feats) )\n",
      "            else:\n",
      "                zero_count += 1\n",
      "\n",
      "        y_true = np.array(y_true)\n",
      "        \n",
      "        t1 = time()\n",
      "        \n",
      "        return (y_true, zero_count, t1-t0)"
     ],
     "language": "python",
     "metadata": {},
     "outputs": [],
     "prompt_number": 2
    },
    {
     "cell_type": "code",
     "collapsed": false,
     "input": [
      "#question_info = pd.read_csv('/home/vagrant/datacourse/MathQuestionTagging/data/question_info_data_2.csv', index_col=0)\n",
      "tag_info = pd.read_csv('/home/vagrant/datacourse/MathQuestionTagging/data/tag_info_data_2.csv', index_col=0)"
     ],
     "language": "python",
     "metadata": {},
     "outputs": [],
     "prompt_number": 3
    },
    {
     "cell_type": "code",
     "collapsed": false,
     "input": [
      "train = pd.read_csv('/home/vagrant/datacourse/MathQuestionTagging/data/train_data.csv', index_col=0)\n",
      "test = pd.read_csv('/home/vagrant/datacourse/MathQuestionTagging/data/test_data.csv', index_col=0)"
     ],
     "language": "python",
     "metadata": {},
     "outputs": [],
     "prompt_number": 4
    },
    {
     "cell_type": "code",
     "collapsed": false,
     "input": [
      "train_array = train.values\n",
      "test_array = test.values"
     ],
     "language": "python",
     "metadata": {},
     "outputs": [],
     "prompt_number": 7
    },
    {
     "cell_type": "code",
     "collapsed": false,
     "input": [
      "# Convert string representation to list of string keywords\n",
      "x_train_raw = []\n",
      "y_train_raw = []\n",
      "\n",
      "x_test_raw = []\n",
      "y_test_raw = []\n",
      "\n",
      "for i in range( train.shape[0] ):\n",
      "    x_train_raw.append( ast.literal_eval(train_array[i][4]) )\n",
      "    y_train_raw.append( ast.literal_eval(train_array[i][0]) )\n",
      "\n",
      "for i in range( test.shape[0]):\n",
      "    x_test_raw.append( ast.literal_eval(test_array[i][4]) )\n",
      "    y_test_raw.append( ast.literal_eval(test_array[i][0]) )"
     ],
     "language": "python",
     "metadata": {},
     "outputs": [],
     "prompt_number": 8
    },
    {
     "cell_type": "code",
     "collapsed": false,
     "input": [
      "ordered_keywords = tag_info.sort('count', ascending=False)\n",
      "\n",
      "classifiers = {'bernoulli': BernoulliNB(), 'multinomial': MultinomialNB(), 'linear_svc': LinearSVC()}\n",
      "evaluation_info = {'features': {},'bernoulli': {}, 'multinomial': {}, 'linear_svc': {}}\n",
      "\n",
      "bfe = BaselineFeatureExtractor( ordered_keywords )\n",
      "\n",
      "\n",
      "x_train, y_train, train_zero_count, train_feat_extract_time = bfe.x_y_train(x_train_raw, y_train_raw)\n",
      "x_test, y_true, test_zero_count, test_feat_extract_time = bfe.x_y_train(x_test_raw, y_test_raw)\n",
      "\n",
      "\n",
      "evaluation_info['features']['train_samples'] = len(x_train)\n",
      "evaluation_info['features']['test_samples'] = len(y_true)\n",
      "evaluation_info['features']['extract_time'] = train_feat_extract_time + test_feat_extract_time\n",
      "evaluation_info['features']['train_zero_count'] = train_zero_count\n",
      "evaluation_info['features']['test_zero_count'] = test_zero_count\n",
      "\n",
      "print 'Feature extraction time: %f' % (train_feat_extract_time + test_feat_extract_time)\n",
      "\n",
      "for clf in classifiers:\n",
      "\n",
      "    print 'Training: %s' % clf\n",
      "    \n",
      "    t0 = time()\n",
      "    evaluation_info[clf]['classifier'] = OneVsRestClassifier( classifiers[clf] ).fit(x_train, y_train)\n",
      "    evaluation_info[clf]['train_time'] = time() - t0"
     ],
     "language": "python",
     "metadata": {},
     "outputs": [
      {
       "output_type": "stream",
       "stream": "stdout",
       "text": [
        "Extracting baseline features for 15660 training samples and 2256 keywords\n",
        "\n",
        "Extracting baseline features for 3915 training samples and 2256 keywords\n"
       ]
      },
      {
       "output_type": "stream",
       "stream": "stdout",
       "text": [
        "\n",
        "Feature extraction time: 11.190197"
       ]
      },
      {
       "output_type": "stream",
       "stream": "stderr",
       "text": [
        "/usr/local/lib/python2.7/dist-packages/sklearn/multiclass.py:57: UserWarning: Label not 293 is present in all training examples.\n",
        "  str(classes[c]))\n",
        "/usr/local/lib/python2.7/dist-packages/sklearn/multiclass.py:57: UserWarning: Label not 394 is present in all training examples.\n",
        "  str(classes[c]))\n"
       ]
      },
      {
       "output_type": "stream",
       "stream": "stderr",
       "text": [
        "/usr/local/lib/python2.7/dist-packages/sklearn/multiclass.py:57: UserWarning: Label not 582 is present in all training examples.\n",
        "  str(classes[c]))\n",
        "/usr/local/lib/python2.7/dist-packages/sklearn/multiclass.py:57: UserWarning: Label not 703 is present in all training examples.\n",
        "  str(classes[c]))\n"
       ]
      },
      {
       "output_type": "stream",
       "stream": "stderr",
       "text": [
        "/usr/local/lib/python2.7/dist-packages/sklearn/multiclass.py:57: UserWarning: Label not 705 is present in all training examples.\n",
        "  str(classes[c]))\n",
        "/usr/local/lib/python2.7/dist-packages/sklearn/multiclass.py:57: UserWarning: Label not 716 is present in all training examples.\n",
        "  str(classes[c]))\n"
       ]
      },
      {
       "output_type": "stream",
       "stream": "stderr",
       "text": [
        "/usr/local/lib/python2.7/dist-packages/sklearn/multiclass.py:57: UserWarning: Label not 783 is present in all training examples.\n",
        "  str(classes[c]))\n",
        "/usr/local/lib/python2.7/dist-packages/sklearn/multiclass.py:57: UserWarning: Label not 841 is present in all training examples.\n",
        "  str(classes[c]))\n"
       ]
      },
      {
       "output_type": "stream",
       "stream": "stderr",
       "text": [
        "/usr/local/lib/python2.7/dist-packages/sklearn/multiclass.py:57: UserWarning: Label not 901 is present in all training examples.\n",
        "  str(classes[c]))\n",
        "/usr/local/lib/python2.7/dist-packages/sklearn/multiclass.py:57: UserWarning: Label not 940 is present in all training examples.\n",
        "  str(classes[c]))\n"
       ]
      },
      {
       "output_type": "stream",
       "stream": "stderr",
       "text": [
        "/usr/local/lib/python2.7/dist-packages/sklearn/multiclass.py:57: UserWarning: Label not 942 is present in all training examples.\n",
        "  str(classes[c]))\n",
        "/usr/local/lib/python2.7/dist-packages/sklearn/multiclass.py:57: UserWarning: Label not 972 is present in all training examples.\n",
        "  str(classes[c]))\n"
       ]
      },
      {
       "output_type": "stream",
       "stream": "stderr",
       "text": [
        "/usr/local/lib/python2.7/dist-packages/sklearn/multiclass.py:57: UserWarning: Label not 1000 is present in all training examples.\n",
        "  str(classes[c]))\n",
        "/usr/local/lib/python2.7/dist-packages/sklearn/multiclass.py:57: UserWarning: Label not 1154 is present in all training examples.\n",
        "  str(classes[c]))\n"
       ]
      },
      {
       "output_type": "stream",
       "stream": "stderr",
       "text": [
        "/usr/local/lib/python2.7/dist-packages/sklearn/multiclass.py:57: UserWarning: Label not 1262 is present in all training examples.\n",
        "  str(classes[c]))\n",
        "/usr/local/lib/python2.7/dist-packages/sklearn/multiclass.py:57: UserWarning: Label not 1278 is present in all training examples.\n",
        "  str(classes[c]))\n"
       ]
      },
      {
       "output_type": "stream",
       "stream": "stderr",
       "text": [
        "/usr/local/lib/python2.7/dist-packages/sklearn/multiclass.py:57: UserWarning: Label not 1306 is present in all training examples.\n",
        "  str(classes[c]))\n",
        "/usr/local/lib/python2.7/dist-packages/sklearn/multiclass.py:57: UserWarning: Label not 1353 is present in all training examples.\n",
        "  str(classes[c]))\n"
       ]
      },
      {
       "output_type": "stream",
       "stream": "stderr",
       "text": [
        "/usr/local/lib/python2.7/dist-packages/sklearn/multiclass.py:57: UserWarning: Label not 1361 is present in all training examples.\n",
        "  str(classes[c]))\n",
        "/usr/local/lib/python2.7/dist-packages/sklearn/multiclass.py:57: UserWarning: Label not 1380 is present in all training examples.\n",
        "  str(classes[c]))\n"
       ]
      },
      {
       "output_type": "stream",
       "stream": "stderr",
       "text": [
        "/usr/local/lib/python2.7/dist-packages/sklearn/multiclass.py:57: UserWarning: Label not 1390 is present in all training examples.\n",
        "  str(classes[c]))\n",
        "/usr/local/lib/python2.7/dist-packages/sklearn/multiclass.py:57: UserWarning: Label not 1418 is present in all training examples.\n",
        "  str(classes[c]))\n"
       ]
      },
      {
       "output_type": "stream",
       "stream": "stderr",
       "text": [
        "/usr/local/lib/python2.7/dist-packages/sklearn/multiclass.py:57: UserWarning: Label not 1461 is present in all training examples.\n",
        "  str(classes[c]))\n",
        "/usr/local/lib/python2.7/dist-packages/sklearn/multiclass.py:57: UserWarning: Label not 1475 is present in all training examples.\n",
        "  str(classes[c]))\n"
       ]
      },
      {
       "output_type": "stream",
       "stream": "stderr",
       "text": [
        "/usr/local/lib/python2.7/dist-packages/sklearn/multiclass.py:57: UserWarning: Label not 1478 is present in all training examples.\n",
        "  str(classes[c]))\n",
        "/usr/local/lib/python2.7/dist-packages/sklearn/multiclass.py:57: UserWarning: Label not 1488 is present in all training examples.\n",
        "  str(classes[c]))\n"
       ]
      },
      {
       "output_type": "stream",
       "stream": "stderr",
       "text": [
        "/usr/local/lib/python2.7/dist-packages/sklearn/multiclass.py:57: UserWarning: Label not 1501 is present in all training examples.\n",
        "  str(classes[c]))\n",
        "/usr/local/lib/python2.7/dist-packages/sklearn/multiclass.py:57: UserWarning: Label not 1515 is present in all training examples.\n",
        "  str(classes[c]))\n"
       ]
      },
      {
       "output_type": "stream",
       "stream": "stderr",
       "text": [
        "/usr/local/lib/python2.7/dist-packages/sklearn/multiclass.py:57: UserWarning: Label not 1519 is present in all training examples.\n",
        "  str(classes[c]))\n",
        "/usr/local/lib/python2.7/dist-packages/sklearn/multiclass.py:57: UserWarning: Label not 1522 is present in all training examples.\n",
        "  str(classes[c]))\n"
       ]
      },
      {
       "output_type": "stream",
       "stream": "stderr",
       "text": [
        "/usr/local/lib/python2.7/dist-packages/sklearn/multiclass.py:57: UserWarning: Label not 1531 is present in all training examples.\n",
        "  str(classes[c]))\n",
        "/usr/local/lib/python2.7/dist-packages/sklearn/multiclass.py:57: UserWarning: Label not 1541 is present in all training examples.\n",
        "  str(classes[c]))\n"
       ]
      },
      {
       "output_type": "stream",
       "stream": "stderr",
       "text": [
        "/usr/local/lib/python2.7/dist-packages/sklearn/multiclass.py:57: UserWarning: Label not 1552 is present in all training examples.\n",
        "  str(classes[c]))\n",
        "/usr/local/lib/python2.7/dist-packages/sklearn/multiclass.py:57: UserWarning: Label not 1572 is present in all training examples.\n",
        "  str(classes[c]))\n"
       ]
      },
      {
       "output_type": "stream",
       "stream": "stderr",
       "text": [
        "/usr/local/lib/python2.7/dist-packages/sklearn/multiclass.py:57: UserWarning: Label not 1575 is present in all training examples.\n",
        "  str(classes[c]))\n",
        "/usr/local/lib/python2.7/dist-packages/sklearn/multiclass.py:57: UserWarning: Label not 1598 is present in all training examples.\n",
        "  str(classes[c]))\n"
       ]
      },
      {
       "output_type": "stream",
       "stream": "stderr",
       "text": [
        "/usr/local/lib/python2.7/dist-packages/sklearn/multiclass.py:57: UserWarning: Label not 1611 is present in all training examples.\n",
        "  str(classes[c]))\n",
        "/usr/local/lib/python2.7/dist-packages/sklearn/multiclass.py:57: UserWarning: Label not 1614 is present in all training examples.\n",
        "  str(classes[c]))\n"
       ]
      },
      {
       "output_type": "stream",
       "stream": "stderr",
       "text": [
        "/usr/local/lib/python2.7/dist-packages/sklearn/multiclass.py:57: UserWarning: Label not 1616 is present in all training examples.\n",
        "  str(classes[c]))\n",
        "/usr/local/lib/python2.7/dist-packages/sklearn/multiclass.py:57: UserWarning: Label not 1617 is present in all training examples.\n",
        "  str(classes[c]))\n",
        "/usr/local/lib/python2.7/dist-packages/sklearn/multiclass.py:57: UserWarning: Label not 1628 is present in all training examples.\n",
        "  str(classes[c]))\n"
       ]
      },
      {
       "output_type": "stream",
       "stream": "stderr",
       "text": [
        "/usr/local/lib/python2.7/dist-packages/sklearn/multiclass.py:57: UserWarning: Label not 1635 is present in all training examples.\n",
        "  str(classes[c]))\n",
        "/usr/local/lib/python2.7/dist-packages/sklearn/multiclass.py:57: UserWarning: Label not 1636 is present in all training examples.\n",
        "  str(classes[c]))\n",
        "/usr/local/lib/python2.7/dist-packages/sklearn/multiclass.py:57: UserWarning: Label not 1637 is present in all training examples.\n",
        "  str(classes[c]))\n",
        "/usr/local/lib/python2.7/dist-packages/sklearn/multiclass.py:57: UserWarning: Label not 1639 is present in all training examples.\n",
        "  str(classes[c]))\n"
       ]
      },
      {
       "output_type": "stream",
       "stream": "stderr",
       "text": [
        "/usr/local/lib/python2.7/dist-packages/sklearn/multiclass.py:57: UserWarning: Label not 1641 is present in all training examples.\n",
        "  str(classes[c]))\n",
        "/usr/local/lib/python2.7/dist-packages/sklearn/multiclass.py:57: UserWarning: Label not 1647 is present in all training examples.\n",
        "  str(classes[c]))\n"
       ]
      },
      {
       "output_type": "stream",
       "stream": "stderr",
       "text": [
        "/usr/local/lib/python2.7/dist-packages/sklearn/multiclass.py:57: UserWarning: Label not 1648 is present in all training examples.\n",
        "  str(classes[c]))\n",
        "/usr/local/lib/python2.7/dist-packages/sklearn/multiclass.py:57: UserWarning: Label not 1655 is present in all training examples.\n",
        "  str(classes[c]))\n"
       ]
      },
      {
       "output_type": "stream",
       "stream": "stderr",
       "text": [
        "/usr/local/lib/python2.7/dist-packages/sklearn/multiclass.py:57: UserWarning: Label not 1656 is present in all training examples.\n",
        "  str(classes[c]))\n",
        "/usr/local/lib/python2.7/dist-packages/sklearn/multiclass.py:57: UserWarning: Label not 1668 is present in all training examples.\n",
        "  str(classes[c]))\n"
       ]
      },
      {
       "output_type": "stream",
       "stream": "stderr",
       "text": [
        "/usr/local/lib/python2.7/dist-packages/sklearn/multiclass.py:57: UserWarning: Label not 1669 is present in all training examples.\n",
        "  str(classes[c]))\n",
        "/usr/local/lib/python2.7/dist-packages/sklearn/multiclass.py:57: UserWarning: Label not 1670 is present in all training examples.\n",
        "  str(classes[c]))\n",
        "/usr/local/lib/python2.7/dist-packages/sklearn/multiclass.py:57: UserWarning: Label not 1671 is present in all training examples.\n",
        "  str(classes[c]))\n",
        "/usr/local/lib/python2.7/dist-packages/sklearn/multiclass.py:57: UserWarning: Label not 1674 is present in all training examples.\n",
        "  str(classes[c]))\n"
       ]
      },
      {
       "output_type": "stream",
       "stream": "stderr",
       "text": [
        "/usr/local/lib/python2.7/dist-packages/sklearn/multiclass.py:57: UserWarning: Label not 1675 is present in all training examples.\n",
        "  str(classes[c]))\n",
        "/usr/local/lib/python2.7/dist-packages/sklearn/multiclass.py:57: UserWarning: Label not 1677 is present in all training examples.\n",
        "  str(classes[c]))\n"
       ]
      },
      {
       "output_type": "stream",
       "stream": "stderr",
       "text": [
        "/usr/local/lib/python2.7/dist-packages/sklearn/multiclass.py:57: UserWarning: Label not 1680 is present in all training examples.\n",
        "  str(classes[c]))\n",
        "/usr/local/lib/python2.7/dist-packages/sklearn/multiclass.py:57: UserWarning: Label not 1682 is present in all training examples.\n",
        "  str(classes[c]))\n"
       ]
      },
      {
       "output_type": "stream",
       "stream": "stderr",
       "text": [
        "/usr/local/lib/python2.7/dist-packages/sklearn/multiclass.py:57: UserWarning: Label not 1683 is present in all training examples.\n",
        "  str(classes[c]))\n",
        "/usr/local/lib/python2.7/dist-packages/sklearn/multiclass.py:57: UserWarning: Label not 1685 is present in all training examples.\n",
        "  str(classes[c]))\n"
       ]
      },
      {
       "output_type": "stream",
       "stream": "stderr",
       "text": [
        "/usr/local/lib/python2.7/dist-packages/sklearn/multiclass.py:57: UserWarning: Label not 1691 is present in all training examples.\n",
        "  str(classes[c]))\n",
        "/usr/local/lib/python2.7/dist-packages/sklearn/multiclass.py:57: UserWarning: Label not 1693 is present in all training examples.\n",
        "  str(classes[c]))\n"
       ]
      },
      {
       "output_type": "stream",
       "stream": "stderr",
       "text": [
        "/usr/local/lib/python2.7/dist-packages/sklearn/multiclass.py:57: UserWarning: Label not 1699 is present in all training examples.\n",
        "  str(classes[c]))\n",
        "/usr/local/lib/python2.7/dist-packages/sklearn/multiclass.py:57: UserWarning: Label not 1711 is present in all training examples.\n",
        "  str(classes[c]))\n"
       ]
      },
      {
       "output_type": "stream",
       "stream": "stderr",
       "text": [
        "/usr/local/lib/python2.7/dist-packages/sklearn/multiclass.py:57: UserWarning: Label not 1718 is present in all training examples.\n",
        "  str(classes[c]))\n",
        "/usr/local/lib/python2.7/dist-packages/sklearn/multiclass.py:57: UserWarning: Label not 1726 is present in all training examples.\n",
        "  str(classes[c]))\n"
       ]
      },
      {
       "output_type": "stream",
       "stream": "stderr",
       "text": [
        "/usr/local/lib/python2.7/dist-packages/sklearn/multiclass.py:57: UserWarning: Label not 1727 is present in all training examples.\n",
        "  str(classes[c]))\n",
        "/usr/local/lib/python2.7/dist-packages/sklearn/multiclass.py:57: UserWarning: Label not 1728 is present in all training examples.\n",
        "  str(classes[c]))\n",
        "/usr/local/lib/python2.7/dist-packages/sklearn/multiclass.py:57: UserWarning: Label not 1729 is present in all training examples.\n",
        "  str(classes[c]))\n",
        "/usr/local/lib/python2.7/dist-packages/sklearn/multiclass.py:57: UserWarning: Label not 1733 is present in all training examples.\n",
        "  str(classes[c]))\n"
       ]
      },
      {
       "output_type": "stream",
       "stream": "stderr",
       "text": [
        "/usr/local/lib/python2.7/dist-packages/sklearn/multiclass.py:57: UserWarning: Label not 1735 is present in all training examples.\n",
        "  str(classes[c]))\n",
        "/usr/local/lib/python2.7/dist-packages/sklearn/multiclass.py:57: UserWarning: Label not 1737 is present in all training examples.\n",
        "  str(classes[c]))\n"
       ]
      },
      {
       "output_type": "stream",
       "stream": "stderr",
       "text": [
        "/usr/local/lib/python2.7/dist-packages/sklearn/multiclass.py:57: UserWarning: Label not 1746 is present in all training examples.\n",
        "  str(classes[c]))\n",
        "/usr/local/lib/python2.7/dist-packages/sklearn/multiclass.py:57: UserWarning: Label not 1751 is present in all training examples.\n",
        "  str(classes[c]))\n"
       ]
      },
      {
       "output_type": "stream",
       "stream": "stderr",
       "text": [
        "/usr/local/lib/python2.7/dist-packages/sklearn/multiclass.py:57: UserWarning: Label not 1755 is present in all training examples.\n",
        "  str(classes[c]))\n",
        "/usr/local/lib/python2.7/dist-packages/sklearn/multiclass.py:57: UserWarning: Label not 1760 is present in all training examples.\n",
        "  str(classes[c]))\n"
       ]
      },
      {
       "output_type": "stream",
       "stream": "stderr",
       "text": [
        "/usr/local/lib/python2.7/dist-packages/sklearn/multiclass.py:57: UserWarning: Label not 1762 is present in all training examples.\n",
        "  str(classes[c]))\n",
        "/usr/local/lib/python2.7/dist-packages/sklearn/multiclass.py:57: UserWarning: Label not 1768 is present in all training examples.\n",
        "  str(classes[c]))\n"
       ]
      },
      {
       "output_type": "stream",
       "stream": "stderr",
       "text": [
        "/usr/local/lib/python2.7/dist-packages/sklearn/multiclass.py:57: UserWarning: Label not 1777 is present in all training examples.\n",
        "  str(classes[c]))\n",
        "/usr/local/lib/python2.7/dist-packages/sklearn/multiclass.py:57: UserWarning: Label not 1778 is present in all training examples.\n",
        "  str(classes[c]))\n",
        "/usr/local/lib/python2.7/dist-packages/sklearn/multiclass.py:57: UserWarning: Label not 1791 is present in all training examples.\n",
        "  str(classes[c]))\n"
       ]
      },
      {
       "output_type": "stream",
       "stream": "stderr",
       "text": [
        "/usr/local/lib/python2.7/dist-packages/sklearn/multiclass.py:57: UserWarning: Label not 1792 is present in all training examples.\n",
        "  str(classes[c]))\n",
        "/usr/local/lib/python2.7/dist-packages/sklearn/multiclass.py:57: UserWarning: Label not 1794 is present in all training examples.\n",
        "  str(classes[c]))\n"
       ]
      },
      {
       "output_type": "stream",
       "stream": "stderr",
       "text": [
        "/usr/local/lib/python2.7/dist-packages/sklearn/multiclass.py:57: UserWarning: Label not 1795 is present in all training examples.\n",
        "  str(classes[c]))\n",
        "/usr/local/lib/python2.7/dist-packages/sklearn/multiclass.py:57: UserWarning: Label not 1800 is present in all training examples.\n",
        "  str(classes[c]))\n"
       ]
      },
      {
       "output_type": "stream",
       "stream": "stderr",
       "text": [
        "/usr/local/lib/python2.7/dist-packages/sklearn/multiclass.py:57: UserWarning: Label not 1802 is present in all training examples.\n",
        "  str(classes[c]))\n",
        "/usr/local/lib/python2.7/dist-packages/sklearn/multiclass.py:57: UserWarning: Label not 1808 is present in all training examples.\n",
        "  str(classes[c]))\n"
       ]
      },
      {
       "output_type": "stream",
       "stream": "stderr",
       "text": [
        "/usr/local/lib/python2.7/dist-packages/sklearn/multiclass.py:57: UserWarning: Label not 1811 is present in all training examples.\n",
        "  str(classes[c]))\n",
        "/usr/local/lib/python2.7/dist-packages/sklearn/multiclass.py:57: UserWarning: Label not 1812 is present in all training examples.\n",
        "  str(classes[c]))\n",
        "/usr/local/lib/python2.7/dist-packages/sklearn/multiclass.py:57: UserWarning: Label not 1817 is present in all training examples.\n",
        "  str(classes[c]))\n"
       ]
      },
      {
       "output_type": "stream",
       "stream": "stderr",
       "text": [
        "/usr/local/lib/python2.7/dist-packages/sklearn/multiclass.py:57: UserWarning: Label not 1828 is present in all training examples.\n",
        "  str(classes[c]))\n",
        "/usr/local/lib/python2.7/dist-packages/sklearn/multiclass.py:57: UserWarning: Label not 1836 is present in all training examples.\n",
        "  str(classes[c]))\n"
       ]
      },
      {
       "output_type": "stream",
       "stream": "stderr",
       "text": [
        "/usr/local/lib/python2.7/dist-packages/sklearn/multiclass.py:57: UserWarning: Label not 1837 is present in all training examples.\n",
        "  str(classes[c]))\n",
        "/usr/local/lib/python2.7/dist-packages/sklearn/multiclass.py:57: UserWarning: Label not 1844 is present in all training examples.\n",
        "  str(classes[c]))\n"
       ]
      },
      {
       "output_type": "stream",
       "stream": "stderr",
       "text": [
        "/usr/local/lib/python2.7/dist-packages/sklearn/multiclass.py:57: UserWarning: Label not 1846 is present in all training examples.\n",
        "  str(classes[c]))\n",
        "/usr/local/lib/python2.7/dist-packages/sklearn/multiclass.py:57: UserWarning: Label not 1852 is present in all training examples.\n",
        "  str(classes[c]))\n"
       ]
      },
      {
       "output_type": "stream",
       "stream": "stderr",
       "text": [
        "/usr/local/lib/python2.7/dist-packages/sklearn/multiclass.py:57: UserWarning: Label not 1853 is present in all training examples.\n",
        "  str(classes[c]))\n",
        "/usr/local/lib/python2.7/dist-packages/sklearn/multiclass.py:57: UserWarning: Label not 1854 is present in all training examples.\n",
        "  str(classes[c]))\n",
        "/usr/local/lib/python2.7/dist-packages/sklearn/multiclass.py:57: UserWarning: Label not 1856 is present in all training examples.\n",
        "  str(classes[c]))\n"
       ]
      },
      {
       "output_type": "stream",
       "stream": "stderr",
       "text": [
        "/usr/local/lib/python2.7/dist-packages/sklearn/multiclass.py:57: UserWarning: Label not 1862 is present in all training examples.\n",
        "  str(classes[c]))\n",
        "/usr/local/lib/python2.7/dist-packages/sklearn/multiclass.py:57: UserWarning: Label not 1863 is present in all training examples.\n",
        "  str(classes[c]))\n",
        "/usr/local/lib/python2.7/dist-packages/sklearn/multiclass.py:57: UserWarning: Label not 1868 is present in all training examples.\n",
        "  str(classes[c]))\n"
       ]
      },
      {
       "output_type": "stream",
       "stream": "stderr",
       "text": [
        "/usr/local/lib/python2.7/dist-packages/sklearn/multiclass.py:57: UserWarning: Label not 1875 is present in all training examples.\n",
        "  str(classes[c]))\n",
        "/usr/local/lib/python2.7/dist-packages/sklearn/multiclass.py:57: UserWarning: Label not 1877 is present in all training examples.\n",
        "  str(classes[c]))\n"
       ]
      },
      {
       "output_type": "stream",
       "stream": "stderr",
       "text": [
        "/usr/local/lib/python2.7/dist-packages/sklearn/multiclass.py:57: UserWarning: Label not 1887 is present in all training examples.\n",
        "  str(classes[c]))\n",
        "/usr/local/lib/python2.7/dist-packages/sklearn/multiclass.py:57: UserWarning: Label not 1893 is present in all training examples.\n",
        "  str(classes[c]))\n"
       ]
      },
      {
       "output_type": "stream",
       "stream": "stderr",
       "text": [
        "/usr/local/lib/python2.7/dist-packages/sklearn/multiclass.py:57: UserWarning: Label not 1898 is present in all training examples.\n",
        "  str(classes[c]))\n",
        "/usr/local/lib/python2.7/dist-packages/sklearn/multiclass.py:57: UserWarning: Label not 1903 is present in all training examples.\n",
        "  str(classes[c]))\n"
       ]
      },
      {
       "output_type": "stream",
       "stream": "stderr",
       "text": [
        "/usr/local/lib/python2.7/dist-packages/sklearn/multiclass.py:57: UserWarning: Label not 1904 is present in all training examples.\n",
        "  str(classes[c]))\n",
        "/usr/local/lib/python2.7/dist-packages/sklearn/multiclass.py:57: UserWarning: Label not 1906 is present in all training examples.\n",
        "  str(classes[c]))\n"
       ]
      },
      {
       "output_type": "stream",
       "stream": "stderr",
       "text": [
        "/usr/local/lib/python2.7/dist-packages/sklearn/multiclass.py:57: UserWarning: Label not 1918 is present in all training examples.\n",
        "  str(classes[c]))\n",
        "/usr/local/lib/python2.7/dist-packages/sklearn/multiclass.py:57: UserWarning: Label not 1923 is present in all training examples.\n",
        "  str(classes[c]))\n"
       ]
      },
      {
       "output_type": "stream",
       "stream": "stderr",
       "text": [
        "/usr/local/lib/python2.7/dist-packages/sklearn/multiclass.py:57: UserWarning: Label not 1928 is present in all training examples.\n",
        "  str(classes[c]))\n",
        "/usr/local/lib/python2.7/dist-packages/sklearn/multiclass.py:57: UserWarning: Label not 1931 is present in all training examples.\n",
        "  str(classes[c]))\n"
       ]
      },
      {
       "output_type": "stream",
       "stream": "stderr",
       "text": [
        "/usr/local/lib/python2.7/dist-packages/sklearn/multiclass.py:57: UserWarning: Label not 1934 is present in all training examples.\n",
        "  str(classes[c]))\n",
        "/usr/local/lib/python2.7/dist-packages/sklearn/multiclass.py:57: UserWarning: Label not 1936 is present in all training examples.\n",
        "  str(classes[c]))\n"
       ]
      },
      {
       "output_type": "stream",
       "stream": "stderr",
       "text": [
        "/usr/local/lib/python2.7/dist-packages/sklearn/multiclass.py:57: UserWarning: Label not 1939 is present in all training examples.\n",
        "  str(classes[c]))\n",
        "/usr/local/lib/python2.7/dist-packages/sklearn/multiclass.py:57: UserWarning: Label not 1941 is present in all training examples.\n",
        "  str(classes[c]))\n"
       ]
      },
      {
       "output_type": "stream",
       "stream": "stderr",
       "text": [
        "/usr/local/lib/python2.7/dist-packages/sklearn/multiclass.py:57: UserWarning: Label not 1945 is present in all training examples.\n",
        "  str(classes[c]))\n",
        "/usr/local/lib/python2.7/dist-packages/sklearn/multiclass.py:57: UserWarning: Label not 1946 is present in all training examples.\n",
        "  str(classes[c]))\n",
        "/usr/local/lib/python2.7/dist-packages/sklearn/multiclass.py:57: UserWarning: Label not 1951 is present in all training examples.\n",
        "  str(classes[c]))\n"
       ]
      },
      {
       "output_type": "stream",
       "stream": "stderr",
       "text": [
        "/usr/local/lib/python2.7/dist-packages/sklearn/multiclass.py:57: UserWarning: Label not 1952 is present in all training examples.\n",
        "  str(classes[c]))\n",
        "/usr/local/lib/python2.7/dist-packages/sklearn/multiclass.py:57: UserWarning: Label not 1961 is present in all training examples.\n",
        "  str(classes[c]))\n"
       ]
      },
      {
       "output_type": "stream",
       "stream": "stderr",
       "text": [
        "/usr/local/lib/python2.7/dist-packages/sklearn/multiclass.py:57: UserWarning: Label not 1965 is present in all training examples.\n",
        "  str(classes[c]))\n",
        "/usr/local/lib/python2.7/dist-packages/sklearn/multiclass.py:57: UserWarning: Label not 1968 is present in all training examples.\n",
        "  str(classes[c]))\n"
       ]
      },
      {
       "output_type": "stream",
       "stream": "stderr",
       "text": [
        "/usr/local/lib/python2.7/dist-packages/sklearn/multiclass.py:57: UserWarning: Label not 1969 is present in all training examples.\n",
        "  str(classes[c]))\n",
        "/usr/local/lib/python2.7/dist-packages/sklearn/multiclass.py:57: UserWarning: Label not 1970 is present in all training examples.\n",
        "  str(classes[c]))\n",
        "/usr/local/lib/python2.7/dist-packages/sklearn/multiclass.py:57: UserWarning: Label not 1971 is present in all training examples.\n",
        "  str(classes[c]))\n",
        "/usr/local/lib/python2.7/dist-packages/sklearn/multiclass.py:57: UserWarning: Label not 1977 is present in all training examples.\n",
        "  str(classes[c]))\n"
       ]
      },
      {
       "output_type": "stream",
       "stream": "stderr",
       "text": [
        "/usr/local/lib/python2.7/dist-packages/sklearn/multiclass.py:57: UserWarning: Label not 1980 is present in all training examples.\n",
        "  str(classes[c]))\n",
        "/usr/local/lib/python2.7/dist-packages/sklearn/multiclass.py:57: UserWarning: Label not 1982 is present in all training examples.\n",
        "  str(classes[c]))\n"
       ]
      },
      {
       "output_type": "stream",
       "stream": "stderr",
       "text": [
        "/usr/local/lib/python2.7/dist-packages/sklearn/multiclass.py:57: UserWarning: Label not 1988 is present in all training examples.\n",
        "  str(classes[c]))\n",
        "/usr/local/lib/python2.7/dist-packages/sklearn/multiclass.py:57: UserWarning: Label not 1989 is present in all training examples.\n",
        "  str(classes[c]))\n",
        "/usr/local/lib/python2.7/dist-packages/sklearn/multiclass.py:57: UserWarning: Label not 1992 is present in all training examples.\n",
        "  str(classes[c]))\n"
       ]
      },
      {
       "output_type": "stream",
       "stream": "stderr",
       "text": [
        "/usr/local/lib/python2.7/dist-packages/sklearn/multiclass.py:57: UserWarning: Label not 1993 is present in all training examples.\n",
        "  str(classes[c]))\n",
        "/usr/local/lib/python2.7/dist-packages/sklearn/multiclass.py:57: UserWarning: Label not 1994 is present in all training examples.\n",
        "  str(classes[c]))\n",
        "/usr/local/lib/python2.7/dist-packages/sklearn/multiclass.py:57: UserWarning: Label not 1996 is present in all training examples.\n",
        "  str(classes[c]))\n"
       ]
      },
      {
       "output_type": "stream",
       "stream": "stderr",
       "text": [
        "/usr/local/lib/python2.7/dist-packages/sklearn/multiclass.py:57: UserWarning: Label not 1997 is present in all training examples.\n",
        "  str(classes[c]))\n",
        "/usr/local/lib/python2.7/dist-packages/sklearn/multiclass.py:57: UserWarning: Label not 2000 is present in all training examples.\n",
        "  str(classes[c]))\n"
       ]
      },
      {
       "output_type": "stream",
       "stream": "stderr",
       "text": [
        "/usr/local/lib/python2.7/dist-packages/sklearn/multiclass.py:57: UserWarning: Label not 2001 is present in all training examples.\n",
        "  str(classes[c]))\n",
        "/usr/local/lib/python2.7/dist-packages/sklearn/multiclass.py:57: UserWarning: Label not 2002 is present in all training examples.\n",
        "  str(classes[c]))\n",
        "/usr/local/lib/python2.7/dist-packages/sklearn/multiclass.py:57: UserWarning: Label not 2005 is present in all training examples.\n",
        "  str(classes[c]))\n"
       ]
      },
      {
       "output_type": "stream",
       "stream": "stderr",
       "text": [
        "/usr/local/lib/python2.7/dist-packages/sklearn/multiclass.py:57: UserWarning: Label not 2006 is present in all training examples.\n",
        "  str(classes[c]))\n",
        "/usr/local/lib/python2.7/dist-packages/sklearn/multiclass.py:57: UserWarning: Label not 2013 is present in all training examples.\n",
        "  str(classes[c]))\n"
       ]
      },
      {
       "output_type": "stream",
       "stream": "stderr",
       "text": [
        "/usr/local/lib/python2.7/dist-packages/sklearn/multiclass.py:57: UserWarning: Label not 2024 is present in all training examples.\n",
        "  str(classes[c]))\n",
        "/usr/local/lib/python2.7/dist-packages/sklearn/multiclass.py:57: UserWarning: Label not 2025 is present in all training examples.\n",
        "  str(classes[c]))\n",
        "/usr/local/lib/python2.7/dist-packages/sklearn/multiclass.py:57: UserWarning: Label not 2027 is present in all training examples.\n",
        "  str(classes[c]))\n"
       ]
      },
      {
       "output_type": "stream",
       "stream": "stderr",
       "text": [
        "/usr/local/lib/python2.7/dist-packages/sklearn/multiclass.py:57: UserWarning: Label not 2028 is present in all training examples.\n",
        "  str(classes[c]))\n",
        "/usr/local/lib/python2.7/dist-packages/sklearn/multiclass.py:57: UserWarning: Label not 2032 is present in all training examples.\n",
        "  str(classes[c]))\n"
       ]
      },
      {
       "output_type": "stream",
       "stream": "stderr",
       "text": [
        "/usr/local/lib/python2.7/dist-packages/sklearn/multiclass.py:57: UserWarning: Label not 2035 is present in all training examples.\n",
        "  str(classes[c]))\n",
        "/usr/local/lib/python2.7/dist-packages/sklearn/multiclass.py:57: UserWarning: Label not 2036 is present in all training examples.\n",
        "  str(classes[c]))\n",
        "/usr/local/lib/python2.7/dist-packages/sklearn/multiclass.py:57: UserWarning: Label not 2041 is present in all training examples.\n",
        "  str(classes[c]))\n"
       ]
      },
      {
       "output_type": "stream",
       "stream": "stderr",
       "text": [
        "/usr/local/lib/python2.7/dist-packages/sklearn/multiclass.py:57: UserWarning: Label not 2045 is present in all training examples.\n",
        "  str(classes[c]))\n",
        "/usr/local/lib/python2.7/dist-packages/sklearn/multiclass.py:57: UserWarning: Label not 2053 is present in all training examples.\n",
        "  str(classes[c]))\n"
       ]
      },
      {
       "output_type": "stream",
       "stream": "stderr",
       "text": [
        "/usr/local/lib/python2.7/dist-packages/sklearn/multiclass.py:57: UserWarning: Label not 2055 is present in all training examples.\n",
        "  str(classes[c]))\n",
        "/usr/local/lib/python2.7/dist-packages/sklearn/multiclass.py:57: UserWarning: Label not 2064 is present in all training examples.\n",
        "  str(classes[c]))\n"
       ]
      },
      {
       "output_type": "stream",
       "stream": "stderr",
       "text": [
        "/usr/local/lib/python2.7/dist-packages/sklearn/multiclass.py:57: UserWarning: Label not 2070 is present in all training examples.\n",
        "  str(classes[c]))\n",
        "/usr/local/lib/python2.7/dist-packages/sklearn/multiclass.py:57: UserWarning: Label not 2071 is present in all training examples.\n",
        "  str(classes[c]))\n",
        "/usr/local/lib/python2.7/dist-packages/sklearn/multiclass.py:57: UserWarning: Label not 2073 is present in all training examples.\n",
        "  str(classes[c]))\n"
       ]
      },
      {
       "output_type": "stream",
       "stream": "stderr",
       "text": [
        "/usr/local/lib/python2.7/dist-packages/sklearn/multiclass.py:57: UserWarning: Label not 2078 is present in all training examples.\n",
        "  str(classes[c]))\n",
        "/usr/local/lib/python2.7/dist-packages/sklearn/multiclass.py:57: UserWarning: Label not 2082 is present in all training examples.\n",
        "  str(classes[c]))\n"
       ]
      },
      {
       "output_type": "stream",
       "stream": "stderr",
       "text": [
        "/usr/local/lib/python2.7/dist-packages/sklearn/multiclass.py:57: UserWarning: Label not 2084 is present in all training examples.\n",
        "  str(classes[c]))\n",
        "/usr/local/lib/python2.7/dist-packages/sklearn/multiclass.py:57: UserWarning: Label not 2092 is present in all training examples.\n",
        "  str(classes[c]))\n"
       ]
      },
      {
       "output_type": "stream",
       "stream": "stderr",
       "text": [
        "/usr/local/lib/python2.7/dist-packages/sklearn/multiclass.py:57: UserWarning: Label not 2096 is present in all training examples.\n",
        "  str(classes[c]))\n",
        "/usr/local/lib/python2.7/dist-packages/sklearn/multiclass.py:57: UserWarning: Label not 2106 is present in all training examples.\n",
        "  str(classes[c]))\n"
       ]
      },
      {
       "output_type": "stream",
       "stream": "stderr",
       "text": [
        "/usr/local/lib/python2.7/dist-packages/sklearn/multiclass.py:57: UserWarning: Label not 2113 is present in all training examples.\n",
        "  str(classes[c]))\n",
        "/usr/local/lib/python2.7/dist-packages/sklearn/multiclass.py:57: UserWarning: Label not 2119 is present in all training examples.\n",
        "  str(classes[c]))\n"
       ]
      },
      {
       "output_type": "stream",
       "stream": "stderr",
       "text": [
        "/usr/local/lib/python2.7/dist-packages/sklearn/multiclass.py:57: UserWarning: Label not 2122 is present in all training examples.\n",
        "  str(classes[c]))\n",
        "/usr/local/lib/python2.7/dist-packages/sklearn/multiclass.py:57: UserWarning: Label not 2123 is present in all training examples.\n",
        "  str(classes[c]))\n",
        "/usr/local/lib/python2.7/dist-packages/sklearn/multiclass.py:57: UserWarning: Label not 2124 is present in all training examples.\n",
        "  str(classes[c]))\n",
        "/usr/local/lib/python2.7/dist-packages/sklearn/multiclass.py:57: UserWarning: Label not 2127 is present in all training examples.\n",
        "  str(classes[c]))\n"
       ]
      },
      {
       "output_type": "stream",
       "stream": "stderr",
       "text": [
        "/usr/local/lib/python2.7/dist-packages/sklearn/multiclass.py:57: UserWarning: Label not 2128 is present in all training examples.\n",
        "  str(classes[c]))\n",
        "/usr/local/lib/python2.7/dist-packages/sklearn/multiclass.py:57: UserWarning: Label not 2138 is present in all training examples.\n",
        "  str(classes[c]))\n"
       ]
      },
      {
       "output_type": "stream",
       "stream": "stderr",
       "text": [
        "/usr/local/lib/python2.7/dist-packages/sklearn/multiclass.py:57: UserWarning: Label not 2139 is present in all training examples.\n",
        "  str(classes[c]))\n",
        "/usr/local/lib/python2.7/dist-packages/sklearn/multiclass.py:57: UserWarning: Label not 2141 is present in all training examples.\n",
        "  str(classes[c]))\n"
       ]
      },
      {
       "output_type": "stream",
       "stream": "stderr",
       "text": [
        "/usr/local/lib/python2.7/dist-packages/sklearn/multiclass.py:57: UserWarning: Label not 2142 is present in all training examples.\n",
        "  str(classes[c]))\n",
        "/usr/local/lib/python2.7/dist-packages/sklearn/multiclass.py:57: UserWarning: Label not 2148 is present in all training examples.\n",
        "  str(classes[c]))\n"
       ]
      },
      {
       "output_type": "stream",
       "stream": "stderr",
       "text": [
        "/usr/local/lib/python2.7/dist-packages/sklearn/multiclass.py:57: UserWarning: Label not 2149 is present in all training examples.\n",
        "  str(classes[c]))\n",
        "/usr/local/lib/python2.7/dist-packages/sklearn/multiclass.py:57: UserWarning: Label not 2151 is present in all training examples.\n",
        "  str(classes[c]))\n"
       ]
      },
      {
       "output_type": "stream",
       "stream": "stderr",
       "text": [
        "/usr/local/lib/python2.7/dist-packages/sklearn/multiclass.py:57: UserWarning: Label not 2167 is present in all training examples.\n",
        "  str(classes[c]))\n",
        "/usr/local/lib/python2.7/dist-packages/sklearn/multiclass.py:57: UserWarning: Label not 2171 is present in all training examples.\n",
        "  str(classes[c]))\n"
       ]
      },
      {
       "output_type": "stream",
       "stream": "stderr",
       "text": [
        "/usr/local/lib/python2.7/dist-packages/sklearn/multiclass.py:57: UserWarning: Label not 2178 is present in all training examples.\n",
        "  str(classes[c]))\n",
        "/usr/local/lib/python2.7/dist-packages/sklearn/multiclass.py:57: UserWarning: Label not 2188 is present in all training examples.\n",
        "  str(classes[c]))\n"
       ]
      },
      {
       "output_type": "stream",
       "stream": "stderr",
       "text": [
        "/usr/local/lib/python2.7/dist-packages/sklearn/multiclass.py:57: UserWarning: Label not 2196 is present in all training examples.\n",
        "  str(classes[c]))\n",
        "/usr/local/lib/python2.7/dist-packages/sklearn/multiclass.py:57: UserWarning: Label not 2197 is present in all training examples.\n",
        "  str(classes[c]))\n",
        "/usr/local/lib/python2.7/dist-packages/sklearn/multiclass.py:57: UserWarning: Label not 2198 is present in all training examples.\n",
        "  str(classes[c]))\n",
        "/usr/local/lib/python2.7/dist-packages/sklearn/multiclass.py:57: UserWarning: Label not 2199 is present in all training examples.\n",
        "  str(classes[c]))\n",
        "/usr/local/lib/python2.7/dist-packages/sklearn/multiclass.py:57: UserWarning: Label not 2202 is present in all training examples.\n",
        "  str(classes[c]))\n"
       ]
      },
      {
       "output_type": "stream",
       "stream": "stderr",
       "text": [
        "/usr/local/lib/python2.7/dist-packages/sklearn/multiclass.py:57: UserWarning: Label not 2205 is present in all training examples.\n",
        "  str(classes[c]))\n",
        "/usr/local/lib/python2.7/dist-packages/sklearn/multiclass.py:57: UserWarning: Label not 2206 is present in all training examples.\n",
        "  str(classes[c]))\n",
        "/usr/local/lib/python2.7/dist-packages/sklearn/multiclass.py:57: UserWarning: Label not 2207 is present in all training examples.\n",
        "  str(classes[c]))\n",
        "/usr/local/lib/python2.7/dist-packages/sklearn/multiclass.py:57: UserWarning: Label not 2209 is present in all training examples.\n",
        "  str(classes[c]))\n"
       ]
      },
      {
       "output_type": "stream",
       "stream": "stderr",
       "text": [
        "/usr/local/lib/python2.7/dist-packages/sklearn/multiclass.py:57: UserWarning: Label not 2210 is present in all training examples.\n",
        "  str(classes[c]))\n",
        "/usr/local/lib/python2.7/dist-packages/sklearn/multiclass.py:57: UserWarning: Label not 2212 is present in all training examples.\n",
        "  str(classes[c]))\n"
       ]
      },
      {
       "output_type": "stream",
       "stream": "stderr",
       "text": [
        "/usr/local/lib/python2.7/dist-packages/sklearn/multiclass.py:57: UserWarning: Label not 2213 is present in all training examples.\n",
        "  str(classes[c]))\n",
        "/usr/local/lib/python2.7/dist-packages/sklearn/multiclass.py:57: UserWarning: Label not 2214 is present in all training examples.\n",
        "  str(classes[c]))\n",
        "/usr/local/lib/python2.7/dist-packages/sklearn/multiclass.py:57: UserWarning: Label not 2218 is present in all training examples.\n",
        "  str(classes[c]))\n"
       ]
      },
      {
       "output_type": "stream",
       "stream": "stderr",
       "text": [
        "/usr/local/lib/python2.7/dist-packages/sklearn/multiclass.py:57: UserWarning: Label not 2219 is present in all training examples.\n",
        "  str(classes[c]))\n",
        "/usr/local/lib/python2.7/dist-packages/sklearn/multiclass.py:57: UserWarning: Label not 2220 is present in all training examples.\n",
        "  str(classes[c]))\n",
        "/usr/local/lib/python2.7/dist-packages/sklearn/multiclass.py:57: UserWarning: Label not 2225 is present in all training examples.\n",
        "  str(classes[c]))\n"
       ]
      },
      {
       "output_type": "stream",
       "stream": "stderr",
       "text": [
        "/usr/local/lib/python2.7/dist-packages/sklearn/multiclass.py:57: UserWarning: Label not 2226 is present in all training examples.\n",
        "  str(classes[c]))\n",
        "/usr/local/lib/python2.7/dist-packages/sklearn/multiclass.py:57: UserWarning: Label not 2229 is present in all training examples.\n",
        "  str(classes[c]))\n"
       ]
      },
      {
       "output_type": "stream",
       "stream": "stderr",
       "text": [
        "/usr/local/lib/python2.7/dist-packages/sklearn/multiclass.py:57: UserWarning: Label not 2237 is present in all training examples.\n",
        "  str(classes[c]))\n",
        "/usr/local/lib/python2.7/dist-packages/sklearn/multiclass.py:57: UserWarning: Label not 2239 is present in all training examples.\n",
        "  str(classes[c]))\n"
       ]
      },
      {
       "output_type": "stream",
       "stream": "stderr",
       "text": [
        "/usr/local/lib/python2.7/dist-packages/sklearn/multiclass.py:57: UserWarning: Label not 2240 is present in all training examples.\n",
        "  str(classes[c]))\n",
        "/usr/local/lib/python2.7/dist-packages/sklearn/multiclass.py:57: UserWarning: Label not 2241 is present in all training examples.\n",
        "  str(classes[c]))\n",
        "/usr/local/lib/python2.7/dist-packages/sklearn/multiclass.py:57: UserWarning: Label not 2245 is present in all training examples.\n",
        "  str(classes[c]))\n"
       ]
      },
      {
       "output_type": "stream",
       "stream": "stderr",
       "text": [
        "/usr/local/lib/python2.7/dist-packages/sklearn/multiclass.py:57: UserWarning: Label not 2252 is present in all training examples.\n",
        "  str(classes[c]))\n",
        "/usr/local/lib/python2.7/dist-packages/sklearn/multiclass.py:57: UserWarning: Label not 2254 is present in all training examples.\n",
        "  str(classes[c]))\n"
       ]
      },
      {
       "output_type": "stream",
       "stream": "stdout",
       "text": [
        "\n",
        "Training: multinomial\n",
        "Training: bernoulli"
       ]
      },
      {
       "output_type": "stream",
       "stream": "stdout",
       "text": [
        "\n",
        "Training: linear_svc"
       ]
      },
      {
       "output_type": "stream",
       "stream": "stdout",
       "text": [
        "\n"
       ]
      },
      {
       "output_type": "stream",
       "stream": "stderr",
       "text": [
        "/usr/local/lib/python2.7/dist-packages/sklearn/multiclass.py:57: UserWarning: Label not 2255 is present in all training examples.\n",
        "  str(classes[c]))\n"
       ]
      }
     ],
     "prompt_number": 11
    },
    {
     "cell_type": "code",
     "collapsed": false,
     "input": [
      "classifiers"
     ],
     "language": "python",
     "metadata": {},
     "outputs": [
      {
       "metadata": {},
       "output_type": "pyout",
       "prompt_number": 12,
       "text": [
        "{'bernoulli': BernoulliNB(alpha=1.0, binarize=0.0, class_prior=None, fit_prior=True),\n",
        " 'linear_svc': LinearSVC(C=1.0, class_weight=None, dual=True, fit_intercept=True,\n",
        "      intercept_scaling=1, loss='l2', multi_class='ovr', penalty='l2',\n",
        "      random_state=None, tol=0.0001, verbose=0),\n",
        " 'multinomial': MultinomialNB(alpha=1.0, class_prior=None, fit_prior=True)}"
       ]
      }
     ],
     "prompt_number": 12
    },
    {
     "cell_type": "code",
     "collapsed": false,
     "input": [
      "for clf in classifiers:\n",
      "    y_pred = evaluation_info[clf]['classifier'].predict(x_test)\n",
      "    \n",
      "    evaluation_info[clf]['jaccard'] = jaccard_similarity_score(y_true, y_pred)\n",
      "    evaluation_info[clf]['hamming_loss'] = hamming_loss(y_true, y_pred)\n",
      "    evaluation_info[clf]['precision'] = precision_score(y_true, y_pred, average='micro')  \n",
      "    evaluation_info[clf]['recall'] = recall_score(y_true, y_pred, average='micro')\n",
      "    evaluation_info[clf]['f1'] = f1_score(y_true, y_pred, average='micro') "
     ],
     "language": "python",
     "metadata": {},
     "outputs": [],
     "prompt_number": 13
    },
    {
     "cell_type": "code",
     "collapsed": false,
     "input": [
      "size_train = evaluation_info['features']['train_samples'] - evaluation_info['features']['train_zero_count']\n",
      "size_test = evaluation_info['features']['test_samples'] - evaluation_info['features']['test_zero_count']\n",
      "size_total = len(train) + len(test)\n",
      "\n",
      "print 'Size of training samples: %d   Pct of total: %f' % (size_train, size_train / float(size_total))\n",
      "print 'Size of test samples: %d   Pct of total: %f' % (size_test, size_test / float(size_total))\n",
      "\n",
      "print \n",
      "\n",
      "print 'Model \\t\\t  Jaccard \\t Hamming Loss \\t Precision \\t Recall \\t F1'\n",
      "print '-'*90\n",
      "\n",
      "for clf in classifiers:\n",
      "    print '%s \\t %f \\t %f \\t %f \\t %f \\t %f' % \\\n",
      "    (clf, evaluation_info[clf]['jaccard'], evaluation_info[clf]['hamming_loss'], \n",
      "     evaluation_info[clf]['precision'], evaluation_info[clf]['recall'], evaluation_info[clf]['f1'] )"
     ],
     "language": "python",
     "metadata": {},
     "outputs": [
      {
       "output_type": "stream",
       "stream": "stdout",
       "text": [
        "Size of training samples: 11330   Pct of total: 0.578799\n",
        "Size of test samples: 2791   Pct of total: 0.142580\n",
        "\n",
        "Model \t\t  Jaccard \t Hamming Loss \t Precision \t Recall \t F1\n",
        "------------------------------------------------------------------------------------------\n",
        "multinomial \t 0.177768 \t 0.001584 \t 0.305984 \t 0.222781 \t 0.257837\n",
        "bernoulli \t 0.129415 \t 0.001630 \t 0.238986 \t 0.146344 \t 0.181528\n",
        "linear_svc \t 0.306277 \t 0.001077 \t 0.623395 \t 0.322342 \t 0.424952\n"
       ]
      }
     ],
     "prompt_number": 29
    },
    {
     "cell_type": "code",
     "collapsed": false,
     "input": [
      "for i in range(10):\n",
      "    calc_true = set(y_true[:, 0].nonzero()[0].tolist())\n",
      "    calc_pred = set(y_pred[:, 0].nonzero()[0].tolist())\n",
      "\n",
      "    union = len(calc_true.union(calc_pred))\n",
      "    intersection = len(calc_true.intersection(calc_pred))\n",
      "\n",
      "    print intersection / float(union)"
     ],
     "language": "python",
     "metadata": {},
     "outputs": [
      {
       "output_type": "stream",
       "stream": "stdout",
       "text": [
        "0.0407692307692\n"
       ]
      }
     ],
     "prompt_number": 154
    },
    {
     "cell_type": "code",
     "collapsed": false,
     "input": [
      "nonzero = []\n",
      "\n",
      "for i in range( len( y_true[0,:] ) ):\n",
      "    if len(y_true[:, i].nonzero()[0]):\n",
      "        nonzero.append(i)\n",
      "        \n",
      "ordered_tags = tag_info.sort('count', ascending=False)\n",
      "\n",
      "print 'keyword \\t precision \\t recall \\t f1 \\t jaccard'\n",
      "print '-' * 70\n",
      "\n",
      "for i in range(10):\n",
      "    kw = ordered_tags.iloc[i]['keyword']\n",
      "    kw_true = y_true[:, i]\n",
      "    kw_pred = y_pred[:, i]\n",
      "    A = set(kw_true.nonzero()[0].tolist())\n",
      "    B = set(kw_pred.nonzero()[0].tolist())\n",
      "    union = len(A.union(B))\n",
      "    intersection = len(A.intersection(B))\n",
      "    kw_jaccard = intersection / float(union)\n",
      "    kw_precision = precision_score(kw_true, kw_pred)\n",
      "    kw_recall = recall_score(kw_true, kw_pred)\n",
      "    kw_f1 = f1_score(kw_true, kw_pred)\n",
      "    print '%s \\t %f \\t %f \\t %f \\t %f' % (kw, kw_precision, kw_recall, kw_f1, kw_jaccard)"
     ],
     "language": "python",
     "metadata": {},
     "outputs": [
      {
       "output_type": "stream",
       "stream": "stdout",
       "text": [
        "keyword \t precision \t recall \t f1 \t jaccard\n",
        "----------------------------------------------------------------------\n",
        "calculus \t 0.125592 \t 0.056928 \t 0.078344 \t 0.040769\n",
        "algebra \t 0.300912 \t 0.154206 \t 0.203913 \t 0.113532\n",
        "differentiation \t 0.190476 \t 0.015444 \t 0.028571 \t 0.014493\n",
        "integration \t 0.129496 \t 0.073171 \t 0.093506 \t 0.049046\n",
        "derivatives \t 0.048780 \t 0.010417 \t 0.017167 \t 0.008658\n",
        "derivative \t 0.650888 \t 0.604396 \t 0.626781 \t 0.456432\n",
        "product \t 0.111111 \t 0.022727 \t 0.037736 \t 0.019231\n",
        "quotient \t 0.205128 \t 0.045714 \t 0.074766 \t 0.038835\n",
        "functions \t 0.400000 \t 0.113924 \t 0.177340 \t 0.097297\n",
        "integral \t 0.529412 \t 0.062500 \t 0.111801 \t 0.059211\n"
       ]
      }
     ],
     "prompt_number": 162
    },
    {
     "cell_type": "code",
     "collapsed": false,
     "input": [
      "eval_df = pd.DataFrame({clf: evaluation_info[clf] for clf in classifiers})\n",
      "eval_df = eval_df.T\n",
      "\n",
      "eval_df[['f1', 'jaccard', 'precision', 'recall']].head()"
     ],
     "language": "python",
     "metadata": {},
     "outputs": [
      {
       "html": [
        "<div style=\"max-height:1000px;max-width:1500px;overflow:auto;\">\n",
        "<table border=\"1\" class=\"dataframe\">\n",
        "  <thead>\n",
        "    <tr style=\"text-align: right;\">\n",
        "      <th></th>\n",
        "      <th>f1</th>\n",
        "      <th>jaccard</th>\n",
        "      <th>precision</th>\n",
        "      <th>recall</th>\n",
        "    </tr>\n",
        "  </thead>\n",
        "  <tbody>\n",
        "    <tr>\n",
        "      <th>bernoulli</th>\n",
        "      <td> 0.132980</td>\n",
        "      <td> 0.049173</td>\n",
        "      <td> 0.236245</td>\n",
        "      <td> 0.092533</td>\n",
        "    </tr>\n",
        "    <tr>\n",
        "      <th>linear_svc</th>\n",
        "      <td> 0.215562</td>\n",
        "      <td> 0.097613</td>\n",
        "      <td> 0.407787</td>\n",
        "      <td> 0.146503</td>\n",
        "    </tr>\n",
        "    <tr>\n",
        "      <th>multinomial</th>\n",
        "      <td> 0.034824</td>\n",
        "      <td> 0.112142</td>\n",
        "      <td> 0.018431</td>\n",
        "      <td> 0.314839</td>\n",
        "    </tr>\n",
        "  </tbody>\n",
        "</table>\n",
        "</div>"
       ],
       "metadata": {},
       "output_type": "pyout",
       "prompt_number": 94,
       "text": [
        "                   f1   jaccard  precision    recall\n",
        "bernoulli    0.132980  0.049173   0.236245  0.092533\n",
        "linear_svc   0.215562  0.097613   0.407787  0.146503\n",
        "multinomial  0.034824  0.112142   0.018431  0.314839"
       ]
      }
     ],
     "prompt_number": 94
    },
    {
     "cell_type": "code",
     "collapsed": false,
     "input": [
      "import seaborn as sns"
     ],
     "language": "python",
     "metadata": {},
     "outputs": [],
     "prompt_number": 144
    },
    {
     "cell_type": "code",
     "collapsed": false,
     "input": [
      "ind = np.arange(0, 3*len(classifiers.keys()), 3)\n",
      "width = 0.5\n",
      "\n",
      "fig, ax = plt.subplots()\n",
      "\n",
      "ax.barh(ind, eval_df.jaccard, width, color='red', label='Jaccard Score')\n",
      "ax.barh(ind + width, eval_df.precision, width, color='green', label='Precision')\n",
      "ax.barh(ind + 2*width, eval_df.recall, width, color='blue', label='Recall')\n",
      "ax.barh(ind + 3*width, eval_df.f1, width, color='maroon', label='F1')\n",
      "\n",
      "ax.set(yticks=ind + width, yticklabels=eval_df.index, ylim=[-1, 3*4*width + 3 ])\n",
      "ax.legend()#bbox_to_anchor=(1.2, 1.03))\n",
      "\n",
      "plt.title('Evaluation Metrics for Baseline Model')\n",
      "plt.show()"
     ],
     "language": "python",
     "metadata": {},
     "outputs": [
      {
       "metadata": {},
       "output_type": "display_data",
       "png": "[encoded data removed]",
       "text": [
        "<matplotlib.figure.Figure at 0x7fce8c385a10>"
       ]
      }
     ],
     "prompt_number": 147
    },
    {
     "cell_type": "code",
     "collapsed": false,
     "input": [],
     "language": "python",
     "metadata": {},
     "outputs": []
    }
   ],
   "metadata": {}
  }
 ]
}