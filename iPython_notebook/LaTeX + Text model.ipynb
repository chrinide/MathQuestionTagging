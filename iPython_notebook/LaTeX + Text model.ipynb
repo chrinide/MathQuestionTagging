{
 "metadata": {
  "name": "",
  "signature": "sha256:9a793d1b05ab6b36a53bc861d8f72c3f04a35085936d1a90948d84eca2027294"
 },
 "nbformat": 3,
 "nbformat_minor": 0,
 "worksheets": [
  {
   "cells": [
    {
     "cell_type": "code",
     "collapsed": false,
     "input": [
      "import numpy as np\n",
      "import pandas as pd\n",
      "from time import time\n",
      "import ast\n",
      "\n",
      "from sklearn.multiclass import OneVsRestClassifier\n",
      "from sklearn.svm import LinearSVC\n",
      "\n",
      "from sklearn.metrics import jaccard_similarity_score\n",
      "from sklearn.metrics import hamming_loss\n",
      "from sklearn.metrics import precision_score\n",
      "from sklearn.metrics import recall_score\n",
      "from sklearn.metrics import f1_score\n",
      "\n",
      "import matplotlib.pyplot as plt"
     ],
     "language": "python",
     "metadata": {},
     "outputs": [],
     "prompt_number": 79
    },
    {
     "cell_type": "code",
     "collapsed": false,
     "input": [
      "class LatexFeatureExtractor():\n",
      "    def __init__(self, tag_df, num_tokens):\n",
      "        \n",
      "        print 'Initializing LatexFeatureExtractor object with top %d tokens...' % (num_tokens)\n",
      "        \n",
      "        self.tag_df = tag_df\n",
      "        self.num_keywords = tag_df.shape[0]\n",
      "        \n",
      "        t0 = time()\n",
      "        \n",
      "        keywords = tag_df['keyword'].values.tolist()\n",
      "        self.keywords = { k:keywords.index(k) for k in keywords}\n",
      "        \n",
      "        latex_token_set = self.top_n_latex_set( keywords, num_tokens )\n",
      "        self.latex_token_set = { t : latex_token_set.index(t) for t in latex_token_set}\n",
      "        self.num_features = len(latex_token_set)\n",
      "        \n",
      "        print 'Initialization complete. Time: %f' % (time()-t0)\n",
      "        \n",
      "    \n",
      "    def top_latex_tokens(self, keyword):\n",
      "        \"\"\"\n",
      "        This function accepts a keyword and returns a pandas dataframe of the\n",
      "        LaTeX tokens extracted for questions containing that keyword sorted\n",
      "        by the number of times the tokens occur across all questions\n",
      "        @params\n",
      "            - keyword: python string for particular keyword\n",
      "        \"\"\"\n",
      "        # Get index of row containing keyword\n",
      "        index = self.tag_df[ self.tag_df['keyword'] == keyword].index[0]\n",
      "\n",
      "        # Extract LaTeX tokens and counts\n",
      "        latex_dict = ast.literal_eval( self.tag_df.iloc[index]['latex_tokens'] )\n",
      "\n",
      "        # Put information in pandas DataFrame for quick sorting\n",
      "        tokens = latex_dict.keys()\n",
      "        count = []\n",
      "        for token in tokens:\n",
      "            count.append( latex_dict[token] )\n",
      "\n",
      "        token_df = pd.DataFrame({'token' : tokens, 'count' :  count})\n",
      "        token_df = token_df.sort('count', ascending=False)\n",
      "\n",
      "        return token_df\n",
      "    \n",
      "    \n",
      "    def top_n_latex_tokens( self, keyword, n ):  \n",
      "        \"\"\"\n",
      "        This function returns the top n LaTeX tokens associated with a particular tag\n",
      "        @params\n",
      "            - keyword: python string of particular keyword\n",
      "            - n: number of LaTeX tokens to return\n",
      "        \"\"\"\n",
      "        latex_tokens = self.top_latex_tokens(keyword)\n",
      "        top_n_tokens = latex_tokens.head(n)\n",
      "        \n",
      "        return top_n_tokens['token'].values.tolist()\n",
      "    \n",
      "\n",
      "    def top_n_latex_set( self, keywords, num_tokens):\n",
      "        \"\"\"\n",
      "        This function extracts the set of top LaTeX tokens across all keyword arguments\n",
      "        @params\n",
      "            - keywords: python list of keywords\n",
      "            - num_tokens: upper bound on number of LaTeX tokens to extract from each keyword\n",
      "        \"\"\"\n",
      "        set_token_features = []\n",
      "\n",
      "        for kw in keywords:\n",
      "            kw_tokens = self.top_n_latex_tokens(kw, num_tokens)\n",
      "            set_token_features = set_token_features + kw_tokens\n",
      "            set_token_features = list(set(set_token_features))\n",
      "\n",
      "        return set_token_features\n",
      "    \n",
      "    \n",
      "    def label_features(self, keywords):\n",
      "        \"\"\"\n",
      "        Convert list of keyword strings to list of keyword indices\n",
      "        @params\n",
      "            - keywords: python list of keyword strings\n",
      "        \"\"\"\n",
      "        features = []\n",
      "        \n",
      "        for keyword in keywords:\n",
      "            if keyword in self.keywords:\n",
      "                index = self.keywords[keyword]\n",
      "                features.append(index)\n",
      "        \n",
      "        return features\n",
      "    \n",
      "    \n",
      "    def binarize_keywords(self, indices):\n",
      "        \"\"\"\n",
      "        Given a list of keyword indices, returns numpy array of \n",
      "        binarized features where binarized[i] == 1 if i in indices.\n",
      "        \"\"\"\n",
      "        binarized = [0 for i in range(self.num_keywords)]\n",
      "\n",
      "        for i in indices:\n",
      "            binarized[i] = 1\n",
      "\n",
      "        return binarized\n",
      "    \n",
      "    \n",
      "    def binarize_latex(self, indices):\n",
      "        \"\"\"\n",
      "        Given a list of keyword indices, returns numpy array of \n",
      "        binarized features where binarized[i] == 1 if i in indices.\n",
      "        \"\"\"\n",
      "        binarized = [0 for i in range(self.num_features)]\n",
      "\n",
      "        for i in indices:\n",
      "            binarized[i] = 1\n",
      "\n",
      "        return binarized\n",
      "\n",
      "    \n",
      "    def remove_latex_symbols(self, list_of_latex):\n",
      "        \"\"\"\n",
      "        Given a list of strings of LaTeX expressions, this function returns the list with the\n",
      "        strings in remove_expressions removed from the expressions\n",
      "        \"\"\"\n",
      "        remove_expressions = [\"\\\\(\", \"\\\\)\", \"\\(\", \"\\)\", \"\\\\[\", \"\\\\]\"]\n",
      "        latex_expressions = []\n",
      "\n",
      "        for latex in list_of_latex:\n",
      "            for remove_exp in remove_expressions:\n",
      "                if remove_exp in latex:\n",
      "                    latex = latex.replace(remove_exp, '')\n",
      "            latex_expressions.append(latex)\n",
      "\n",
      "        return latex_expressions\n",
      "    \n",
      "    \n",
      "    def tokenize_latex( self, latex_expressions ):\n",
      "        \"\"\"\n",
      "        Given a list of latex_expressions, tokenize the list.\n",
      "        \"\"\"\n",
      "        latex = self.remove_latex_symbols(latex_expressions)\n",
      "        latex_tokens = ' '.join(latex).split()\n",
      "\n",
      "        return latex_tokens\n",
      "    \n",
      "    \n",
      "    def label_latex(self, latex_expressions):\n",
      "        \"\"\"\n",
      "        Given list of latex_expression, this function tokenizes the list and returns a list\n",
      "        of the indices of the tokens in the expressions from the self.latex_token_set dictionary\n",
      "        \"\"\"\n",
      "        features = []\n",
      "        tokens = self.tokenize_latex(latex_expressions)\n",
      "        \n",
      "        for token in tokens:\n",
      "            if token in self.latex_token_set:\n",
      "                features.append( self.latex_token_set[token] )\n",
      "        \n",
      "        return features\n",
      "    \n",
      "        \n",
      "    \n",
      "    def x_y_features_latex( self, x_data, y_data):\n",
      "        \"\"\"\n",
      "        Given list of input and output tags, return binary feature representation \n",
      "        suitable for input into scikit-learn classifiers\n",
      "        \"\"\"\n",
      "        if len(x_data) != len(y_data):\n",
      "            # sanity check\n",
      "            print 'len(x) != len(y)'\n",
      "            return None\n",
      "        \n",
      "        t0 = time()\n",
      "        \n",
      "        x_train = []\n",
      "        y_train = []\n",
      "        zero_count = 0\n",
      "        \n",
      "        for i in range(len(x_data)):\n",
      "            \n",
      "            x_feats = self.label_latex( x_data[i] )\n",
      "            y_feats = self.label_features( y_data[i] )\n",
      "\n",
      "            if x_feats and y_feats:\n",
      "                x_train.append( self.binarize_latex(x_feats) )\n",
      "                y_train.append( self.binarize_keywords(y_feats) )\n",
      "            else:\n",
      "                zero_count += 1\n",
      "\n",
      "        x_train = np.array(x_train)\n",
      "        y_train = np.array(y_train)\n",
      "        \n",
      "        t1 = time()\n",
      "        \n",
      "        return (x_train, y_train, zero_count, t1-t0)\n",
      "    \n",
      "    \n",
      "    \n",
      "    def x_y_features_text_latex( self, x_data, y_data):\n",
      "        \"\"\"\n",
      "        Given list of keywords and LaTeX expressions found in text and corresponding \n",
      "        keyword labels per question, return binary feature representations of x features\n",
      "        and y labels suitable for input into scikit-learn classifiers\n",
      "        @params\n",
      "            - x_data: python list of lists of keywords and LaTeX expressions\n",
      "                x_data[0] : python list of keywords found in question text\n",
      "                x_data[1] : python list of LaTeX expressions found in question text\n",
      "            - y_data: python list of strings of keyword labels\n",
      "        \"\"\"\n",
      "        if len(x_data) != len(y_data):\n",
      "            # sanity check\n",
      "            print 'len(x) != len(y)'\n",
      "            return None\n",
      "        \n",
      "        t0 = time()\n",
      "        \n",
      "        x_train = []\n",
      "        y_train = []\n",
      "        zero_count = 0\n",
      "        \n",
      "        for i in range(len(x_data)):\n",
      "            \n",
      "            # Get the keyword features and LaTeX token features\n",
      "            keyword_feats = self.label_features( x_data[i][0] ) \n",
      "            keyword_feats = self.binarize_keywords( keyword_feats )\n",
      "            \n",
      "            latex_feats = self.label_latex( x_data[i][1] )\n",
      "            latex_feats = self.binarize_latex( latex_feats )\n",
      "            \n",
      "            # Combine both features\n",
      "            x_feats = keyword_feats + latex_feats\n",
      "            y_feats = self.label_features( y_data[i] )\n",
      "\n",
      "            if x_feats:\n",
      "                x_train.append( x_feats )\n",
      "                y_train.append( self.binarize_keywords(y_feats) )\n",
      "            else:\n",
      "                zero_count += 1\n",
      "\n",
      "        x_train = np.array(x_train)\n",
      "        y_train = np.array(y_train)\n",
      "        \n",
      "        t1 = time()\n",
      "        \n",
      "        return (x_train, y_train, zero_count, t1-t0)\n",
      "    \n",
      "    \n",
      "    def y_true(self, y_data):\n",
      "        \"\"\"\n",
      "        Given list of output tags, return binary feature representation \n",
      "        suitable for input into scikit-learn classifier predictors.\n",
      "        \"\"\"\n",
      "        t0 = time()\n",
      "\n",
      "        y_true = []\n",
      "        zero_count = 0\n",
      "        \n",
      "        for i in range(len(y_data)):\n",
      "            y_feats = self.label_features(y_data[i])\n",
      "\n",
      "            if y_feats:\n",
      "                y_true.append( self.binarize_keywords(y_feats) )\n",
      "            else:\n",
      "                zero_count += 1\n",
      "\n",
      "        y_true = np.array(y_true)\n",
      "        \n",
      "        t1 = time()\n",
      "        \n",
      "        return (y_true, zero_count, t1-t0)"
     ],
     "language": "python",
     "metadata": {},
     "outputs": [],
     "prompt_number": 2
    },
    {
     "cell_type": "code",
     "collapsed": false,
     "input": [
      "tag_info = pd.read_csv('/home/vagrant/datacourse/MathQuestionTagging/data/tag_info_data_2.csv', index_col=0)"
     ],
     "language": "python",
     "metadata": {},
     "outputs": [],
     "prompt_number": 3
    },
    {
     "cell_type": "code",
     "collapsed": false,
     "input": [
      "train = pd.read_csv('/home/vagrant/datacourse/MathQuestionTagging/data/train_data.csv', index_col=0)\n",
      "test = pd.read_csv('/home/vagrant/datacourse/MathQuestionTagging/data/test_data.csv', index_col=0)\n",
      "\n",
      "train_array = train.values\n",
      "test_array = test.values"
     ],
     "language": "python",
     "metadata": {},
     "outputs": [],
     "prompt_number": 4
    },
    {
     "cell_type": "code",
     "collapsed": false,
     "input": [
      "# Convert string representation to list of string keywords\n",
      "x_train_raw = []\n",
      "y_train_raw = []\n",
      "\n",
      "x_test_raw = []\n",
      "y_test_raw = []\n",
      "\n",
      "for i in range( train.shape[0] ):\n",
      "    x_train_raw.append( [ast.literal_eval(train_array[i][4]), ast.literal_eval(train_array[i][1])] )\n",
      "    y_train_raw.append( ast.literal_eval(train_array[i][0]) )\n",
      "\n",
      "for i in range( test.shape[0]):\n",
      "    x_test_raw.append( [ast.literal_eval(test_array[i][4]), ast.literal_eval(test_array[i][1])] )\n",
      "    y_test_raw.append( ast.literal_eval(test_array[i][0]) )"
     ],
     "language": "python",
     "metadata": {},
     "outputs": [],
     "prompt_number": 7
    },
    {
     "cell_type": "code",
     "collapsed": false,
     "input": [
      "# LaTeX only model\n",
      "\n",
      "x_train_raw_latex = []\n",
      "x_test_raw_latex = []\n",
      "\n",
      "for i in range(len(x_train_raw)):\n",
      "    x_train_raw_latex.append(x_train_raw[i][1])\n",
      "    \n",
      "for i in range(len(x_test_raw)):\n",
      "    x_test_raw_latex.append(x_test_raw[i][1])"
     ],
     "language": "python",
     "metadata": {},
     "outputs": [],
     "prompt_number": 15
    },
    {
     "cell_type": "code",
     "collapsed": false,
     "input": [
      "# Top n LaTeX tokens from each keyword\n",
      "num_tokens = [5,10,20,30,40,50]"
     ],
     "language": "python",
     "metadata": {},
     "outputs": [],
     "prompt_number": 29
    },
    {
     "cell_type": "code",
     "collapsed": false,
     "input": [
      "## LaTeX only classifier model\n",
      "latex_classifiers = {n:{'classifier':None, 'train_time':None, 'num_features':None} for n in num_tokens}\n",
      "\n",
      "for n in num_tokens:\n",
      "    \n",
      "    lfe = LatexFeatureExtractor(tag_info, n)\n",
      "\n",
      "    x_train, y_train, train_zero, train_feat_time = lfe.x_y_features_latex(x_train_raw_latex, y_train_raw)\n",
      "    x_test, y_true, test_zero, test_feat_time = lfe.x_y_features_latex(x_test_raw_latex, y_test_raw)\n",
      "\n",
      "    t0 = time()\n",
      "    latex_classifiers[n]['classifier'] = OneVsRestClassifier(LinearSVC()).fit(x_train, y_train)\n",
      "    t1 = time()\n",
      "    \n",
      "    latex_classifiers[n]['num_features'] = len(x_train[0])\n",
      "    latex_classifiers[n]['train_time'] = t1 - t0\n",
      "    \n",
      "    print 'Num features: %d   Time to train: %f ' % (len(x_train[0]), t1-t0 )"
     ],
     "language": "python",
     "metadata": {},
     "outputs": [
      {
       "output_type": "stream",
       "stream": "stdout",
       "text": [
        "Initializing LatexFeatureExtractor object with top 5 tokens...\n",
        "Initialization complete. Time: 8.196426"
       ]
      },
      {
       "output_type": "stream",
       "stream": "stdout",
       "text": [
        "\n",
        "Num features: 1627   Time to train: 309.427321 "
       ]
      },
      {
       "output_type": "stream",
       "stream": "stdout",
       "text": [
        "\n",
        "Initializing LatexFeatureExtractor object with top 10 tokens...\n",
        "Initialization complete. Time: 8.624916"
       ]
      },
      {
       "output_type": "stream",
       "stream": "stdout",
       "text": [
        "\n",
        "Num features: 3234   Time to train: 564.820684 "
       ]
      },
      {
       "output_type": "stream",
       "stream": "stdout",
       "text": [
        "\n",
        "Initializing LatexFeatureExtractor object with top 20 tokens...\n",
        "Initialization complete. Time: 8.766182"
       ]
      },
      {
       "output_type": "stream",
       "stream": "stdout",
       "text": [
        "\n",
        "Num features: 6018   Time to train: 1069.363538 "
       ]
      },
      {
       "output_type": "stream",
       "stream": "stdout",
       "text": [
        "\n",
        "Initializing LatexFeatureExtractor object with top 30 tokens...\n",
        "Initialization complete. Time: 9.905734"
       ]
      },
      {
       "output_type": "stream",
       "stream": "stdout",
       "text": [
        "\n",
        "Num features: 8168   Time to train: 1371.819161 "
       ]
      },
      {
       "output_type": "stream",
       "stream": "stdout",
       "text": [
        "\n",
        "Initializing LatexFeatureExtractor object with top 40 tokens...\n",
        "Initialization complete. Time: 9.421216"
       ]
      },
      {
       "output_type": "stream",
       "stream": "stdout",
       "text": [
        "\n",
        "Num features: 9949   Time to train: 1707.245145 "
       ]
      },
      {
       "output_type": "stream",
       "stream": "stdout",
       "text": [
        "\n",
        "Initializing LatexFeatureExtractor object with top 50 tokens...\n",
        "Initialization complete. Time: 10.208502"
       ]
      }
     ]
    },
    {
     "cell_type": "code",
     "collapsed": false,
     "input": [
      "# Data structure to save results\n",
      "evaluation_info = {'latex':{n:{'jaccard':None, 'hamming_loss':None, 'precision':None, 'recall':None, 'f1':None} \\\n",
      "                            for n in num_tokens}, \\\n",
      "                    'latex_text':{n:{'jaccard':None, 'hamming_loss':None, 'precision':None, 'recall':None, 'f1':None} \\\n",
      "                            for n in num_tokens}}"
     ],
     "language": "python",
     "metadata": {},
     "outputs": [],
     "prompt_number": 36
    },
    {
     "cell_type": "code",
     "collapsed": false,
     "input": [
      "## Save LaTeX only classifier results\n",
      "\n",
      "for n in num_tokens:\n",
      "    \n",
      "    lfe = LatexFeatureExtractor(tag_info, n)\n",
      "\n",
      "    x_train, y_train, train_zero, train_feat_time = lfe.x_y_features_latex(x_train_raw_latex, y_train_raw)\n",
      "    x_test, y_true, test_zero, test_feat_time = lfe.x_y_features_latex(x_test_raw_latex, y_test_raw)\n",
      "    \n",
      "    y_pred = latex_classifiers[n]['classifier'].predict(x_test)\n",
      "    \n",
      "    evaluation_info['latex'][n]['jaccard'] = jaccard_similarity_score(y_true, y_pred)\n",
      "    evaluation_info['latex'][n]['hamming_loss'] = hamming_loss(y_true, y_pred)\n",
      "    evaluation_info['latex'][n]['precision'] = precision_score(y_true, y_pred, average='micro')  \n",
      "    evaluation_info['latex'][n]['recall'] = recall_score(y_true, y_pred, average='micro')\n",
      "    evaluation_info['latex'][n]['f1'] = f1_score(y_true, y_pred, average='micro')   "
     ],
     "language": "python",
     "metadata": {},
     "outputs": [
      {
       "output_type": "stream",
       "stream": "stdout",
       "text": [
        "Initializing LatexFeatureExtractor object with top 5 tokens...\n",
        "Initialization complete. Time: 8.468585"
       ]
      },
      {
       "output_type": "stream",
       "stream": "stdout",
       "text": [
        "\n",
        "Initializing LatexFeatureExtractor object with top 10 tokens..."
       ]
      },
      {
       "output_type": "stream",
       "stream": "stdout",
       "text": [
        "\n",
        "Initialization complete. Time: 8.207087"
       ]
      },
      {
       "output_type": "stream",
       "stream": "stdout",
       "text": [
        "\n",
        "Initializing LatexFeatureExtractor object with top 20 tokens..."
       ]
      },
      {
       "output_type": "stream",
       "stream": "stdout",
       "text": [
        "\n",
        "Initialization complete. Time: 8.914456"
       ]
      },
      {
       "output_type": "stream",
       "stream": "stdout",
       "text": [
        "\n",
        "Initializing LatexFeatureExtractor object with top 30 tokens..."
       ]
      },
      {
       "output_type": "stream",
       "stream": "stdout",
       "text": [
        "\n",
        "Initialization complete. Time: 9.054177"
       ]
      },
      {
       "output_type": "stream",
       "stream": "stdout",
       "text": [
        "\n",
        "Initializing LatexFeatureExtractor object with top 40 tokens..."
       ]
      },
      {
       "output_type": "stream",
       "stream": "stdout",
       "text": [
        "\n",
        "Initialization complete. Time: 9.131829"
       ]
      },
      {
       "output_type": "stream",
       "stream": "stdout",
       "text": [
        "\n",
        "Initializing LatexFeatureExtractor object with top 50 tokens..."
       ]
      },
      {
       "output_type": "stream",
       "stream": "stdout",
       "text": [
        "\n",
        "Initialization complete. Time: 9.886002"
       ]
      },
      {
       "output_type": "stream",
       "stream": "stdout",
       "text": [
        "\n"
       ]
      }
     ],
     "prompt_number": 38
    },
    {
     "cell_type": "code",
     "collapsed": false,
     "input": [
      "print 'LaTeX feature model\\n'\n",
      "\n",
      "print 'Model \\t  Jaccard \\t Hamming Loss \\t Precision \\t Recall \\t F1'\n",
      "print '-'*90\n",
      "\n",
      "for n in num_tokens:\n",
      "    print '%d \\t %f \\t %f \\t %f \\t %f \\t %f' % \\\n",
      "    (n, evaluation_info['latex'][n]['jaccard'], evaluation_info['latex'][n]['hamming_loss'], \\\n",
      "     evaluation_info['latex'][n]['precision'], evaluation_info['latex'][n]['recall'], evaluation_info['latex'][n]['f1'] )"
     ],
     "language": "python",
     "metadata": {},
     "outputs": [
      {
       "output_type": "stream",
       "stream": "stdout",
       "text": [
        "LaTeX feature model\n",
        "\n",
        "Model \t  Jaccard \t Hamming Loss \t Precision \t Recall \t F1\n",
        "------------------------------------------------------------------------------------------\n",
        "5 \t 0.162234 \t 0.001178 \t 0.607937 \t 0.156682 \t 0.249151\n",
        "10 \t 0.210955 \t 0.001152 \t 0.613711 \t 0.206568 \t 0.309097\n",
        "20 \t 0.249499 \t 0.001138 \t 0.605810 \t 0.249506 \t 0.353444\n",
        "30 \t 0.262727 \t 0.001123 \t 0.614315 \t 0.265610 \t 0.370868\n",
        "40 \t 0.273276 \t 0.001112 \t 0.621972 \t 0.276786 \t 0.383091\n",
        "50 \t 0.275321 \t 0.001112 \t 0.618260 \t 0.280404 \t 0.385823\n"
       ]
      }
     ],
     "prompt_number": 42
    },
    {
     "cell_type": "code",
     "collapsed": false,
     "input": [
      "## LaTeX and text classifier model\n",
      "latex_text_classifiers = {n:{'classifier':None, 'train_time':None, 'num_features':None} for n in num_tokens}\n",
      "\n",
      "for n in num_tokens:\n",
      "    \n",
      "    lfe = LatexFeatureExtractor(tag_info, n)\n",
      "\n",
      "    x_train, y_train, train_zero, train_feat_time = lfe.x_y_features_text_latex(x_train_raw, y_train_raw)\n",
      "    x_test, y_true, test_zero, test_feat_time = lfe.x_y_features_text_latex(x_test_raw, y_test_raw)\n",
      "\n",
      "    t0 = time()\n",
      "    latex_text_classifiers[n]['classifier'] = OneVsRestClassifier(LinearSVC()).fit(x_train, y_train)\n",
      "    t1 = time()\n",
      "    \n",
      "    latex_text_classifiers[n]['num_features'] = len(x_train[0])\n",
      "    latex_text_classifiers[n]['train_time'] = t1 - t0\n",
      "    \n",
      "    print 'Num features: %d   Time to train: %f ' % (len(x_train[0]), t1-t0 )"
     ],
     "language": "python",
     "metadata": {},
     "outputs": [
      {
       "output_type": "stream",
       "stream": "stdout",
       "text": [
        "Initializing LatexFeatureExtractor object with top 5 tokens...\n",
        "Initialization complete. Time: 9.879814"
       ]
      },
      {
       "output_type": "stream",
       "stream": "stdout",
       "text": [
        "\n",
        "Num features: 3883   Time to train: 913.610107 "
       ]
      },
      {
       "output_type": "stream",
       "stream": "stdout",
       "text": [
        "\n",
        "Initializing LatexFeatureExtractor object with top 10 tokens...\n",
        "Initialization complete. Time: 7.419182"
       ]
      },
      {
       "output_type": "stream",
       "stream": "stdout",
       "text": [
        "\n",
        "Num features: 5490   Time to train: 1251.752839 "
       ]
      },
      {
       "output_type": "stream",
       "stream": "stdout",
       "text": [
        "\n",
        "Initializing LatexFeatureExtractor object with top 20 tokens...\n",
        "Initialization complete. Time: 8.337358"
       ]
      },
      {
       "output_type": "stream",
       "stream": "stdout",
       "text": [
        "\n",
        "Num features: 8274   Time to train: 1883.711212 "
       ]
      },
      {
       "output_type": "stream",
       "stream": "stdout",
       "text": [
        "\n",
        "Initializing LatexFeatureExtractor object with top 30 tokens...\n",
        "Initialization complete. Time: 11.857118"
       ]
      },
      {
       "output_type": "stream",
       "stream": "stdout",
       "text": [
        "\n",
        "Num features: 10424   Time to train: 2395.355361 "
       ]
      },
      {
       "output_type": "stream",
       "stream": "stdout",
       "text": [
        "\n",
        "Initializing LatexFeatureExtractor object with top 40 tokens...\n",
        "Initialization complete. Time: 9.221974"
       ]
      },
      {
       "output_type": "stream",
       "stream": "stdout",
       "text": [
        "\n",
        "Num features: 12205   Time to train: 2921.866944 "
       ]
      },
      {
       "output_type": "stream",
       "stream": "stdout",
       "text": [
        "\n",
        "Initializing LatexFeatureExtractor object with top 50 tokens...\n",
        "Initialization complete. Time: 10.233899"
       ]
      },
      {
       "output_type": "stream",
       "stream": "stdout",
       "text": [
        "\n",
        "Num features: 13719   Time to train: 3078.144644 "
       ]
      },
      {
       "output_type": "stream",
       "stream": "stdout",
       "text": [
        "\n"
       ]
      }
     ],
     "prompt_number": 33
    },
    {
     "cell_type": "code",
     "collapsed": false,
     "input": [
      "## Save LaTeX and text classifier results\n",
      "\n",
      "for n in num_tokens:\n",
      "    \n",
      "    lfe = LatexFeatureExtractor(tag_info, n)\n",
      "\n",
      "    x_train, y_train, train_zero, train_feat_time = lfe.x_y_features_text_latex(x_train_raw, y_train_raw)\n",
      "    x_test, y_true, test_zero, test_feat_time = lfe.x_y_features_text_latex(x_test_raw, y_test_raw)\n",
      "    \n",
      "    y_pred = latex_text_classifiers[n]['classifier'].predict(x_test)\n",
      "    \n",
      "    evaluation_info['latex_text'][n]['jaccard'] = jaccard_similarity_score(y_true, y_pred)\n",
      "    evaluation_info['latex_text'][n]['hamming_loss'] = hamming_loss(y_true, y_pred)\n",
      "    evaluation_info['latex_text'][n]['precision'] = precision_score(y_true, y_pred, average='micro')  \n",
      "    evaluation_info['latex_text'][n]['recall'] = recall_score(y_true, y_pred, average='micro')\n",
      "    evaluation_info['latex_text'][n]['f1'] = f1_score(y_true, y_pred, average='micro')   "
     ],
     "language": "python",
     "metadata": {},
     "outputs": [
      {
       "output_type": "stream",
       "stream": "stdout",
       "text": [
        "Initializing LatexFeatureExtractor object with top 5 tokens...\n",
        "Initialization complete. Time: 8.231949"
       ]
      },
      {
       "output_type": "stream",
       "stream": "stdout",
       "text": [
        "\n",
        "Initializing LatexFeatureExtractor object with top 10 tokens..."
       ]
      },
      {
       "output_type": "stream",
       "stream": "stdout",
       "text": [
        "\n",
        "Initialization complete. Time: 7.567729"
       ]
      },
      {
       "output_type": "stream",
       "stream": "stdout",
       "text": [
        "\n",
        "Initializing LatexFeatureExtractor object with top 20 tokens..."
       ]
      },
      {
       "output_type": "stream",
       "stream": "stdout",
       "text": [
        "\n",
        "Initialization complete. Time: 8.368678"
       ]
      },
      {
       "output_type": "stream",
       "stream": "stdout",
       "text": [
        "\n",
        "Initializing LatexFeatureExtractor object with top 30 tokens..."
       ]
      },
      {
       "output_type": "stream",
       "stream": "stdout",
       "text": [
        "\n",
        "Initialization complete. Time: 9.682019"
       ]
      },
      {
       "output_type": "stream",
       "stream": "stdout",
       "text": [
        "\n",
        "Initializing LatexFeatureExtractor object with top 40 tokens..."
       ]
      },
      {
       "output_type": "stream",
       "stream": "stdout",
       "text": [
        "\n",
        "Initialization complete. Time: 12.316817"
       ]
      },
      {
       "output_type": "stream",
       "stream": "stdout",
       "text": [
        "\n",
        "Initializing LatexFeatureExtractor object with top 50 tokens..."
       ]
      },
      {
       "output_type": "stream",
       "stream": "stdout",
       "text": [
        "\n",
        "Initialization complete. Time: 10.387827"
       ]
      },
      {
       "output_type": "stream",
       "stream": "stdout",
       "text": [
        "\n"
       ]
      }
     ],
     "prompt_number": 43
    },
    {
     "cell_type": "code",
     "collapsed": false,
     "input": [
      "print 'LaTeX and text feature model\\n'\n",
      "\n",
      "print 'Model \\t  Jaccard \\t Hamming Loss \\t Precision \\t Recall \\t F1'\n",
      "print '-'*90\n",
      "\n",
      "for n in num_tokens:\n",
      "    print '%d \\t %f \\t %f \\t %f \\t %f \\t %f' % \\\n",
      "    (n, evaluation_info['latex_text'][n]['jaccard'], evaluation_info['latex_text'][n]['hamming_loss'], \\\n",
      "     evaluation_info['latex_text'][n]['precision'], evaluation_info['latex_text'][n]['recall'], \\\n",
      "     evaluation_info['latex_text'][n]['f1'] )"
     ],
     "language": "python",
     "metadata": {},
     "outputs": [
      {
       "output_type": "stream",
       "stream": "stdout",
       "text": [
        "LaTeX and text feature model\n",
        "\n",
        "Model \t  Jaccard \t Hamming Loss \t Precision \t Recall \t F1\n",
        "------------------------------------------------------------------------------------------\n",
        "5 \t 0.376582 \t 0.000999 \t 0.650249 \t 0.397929 \t 0.493720\n",
        "10 \t 0.387224 \t 0.000988 \t 0.653789 \t 0.409948 \t 0.503921\n",
        "20 \t 0.402811 \t 0.000976 \t 0.655770 \t 0.426590 \t 0.516917\n",
        "30 \t 0.404146 \t 0.000972 \t 0.658516 \t 0.428254 \t 0.518992\n",
        "40 \t 0.407886 \t 0.000967 \t 0.660724 \t 0.431768 \t 0.522255\n",
        "50 \t 0.406058 \t 0.000970 \t 0.659804 \t 0.429641 \t 0.520410\n"
       ]
      }
     ],
     "prompt_number": 44
    },
    {
     "cell_type": "code",
     "collapsed": false,
     "input": [
      "def get_tags(tag_df, pred_labels):\n",
      "    pred_kw = []\n",
      "    \n",
      "    for i in pred_labels.nonzero()[0]:\n",
      "        pred_kw.append(tag_df.iloc[i]['keyword'])\n",
      "        \n",
      "    return pred_kw"
     ],
     "language": "python",
     "metadata": {},
     "outputs": [],
     "prompt_number": 62
    },
    {
     "cell_type": "code",
     "collapsed": false,
     "input": [
      "# Plot visuals\n",
      "\n",
      "latex_f1_scores = []\n",
      "latex_jaccard = []\n",
      "latex_text_f1_scores = []\n",
      "latex_text_jaccard = []\n",
      "\n",
      "for n in num_tokens:\n",
      "    latex_f1_scores.append( evaluation_info['latex'][n]['f1'] )\n",
      "    latex_jaccard.append( evaluation_info['latex'][n]['jaccard'] )\n",
      "    \n",
      "    latex_text_f1_scores.append( evaluation_info['latex_text'][n]['f1'] )\n",
      "    latex_text_jaccard.append( evaluation_info['latex_text'][n]['jaccard'] )"
     ],
     "language": "python",
     "metadata": {},
     "outputs": [],
     "prompt_number": 76
    },
    {
     "cell_type": "code",
     "collapsed": false,
     "input": [
      "import seaborn as sns"
     ],
     "language": "python",
     "metadata": {},
     "outputs": [],
     "prompt_number": 110
    },
    {
     "cell_type": "code",
     "collapsed": false,
     "input": [
      "index = np.array(num_tokens)\n",
      "width = 1.5  \n",
      "\n",
      "fig, ax = plt.subplots()\n",
      "\n",
      "fig.set_size_inches(10,6)\n",
      "\n",
      "plt.title('F1 Score')\n",
      "ax.bar(index, latex_f1_scores, width, color='purple', label='LaTeX only features')\n",
      "ax.bar(index+width, latex_text_f1_scores, width, color='green', label='LaTeX & Text features')\n",
      "\n",
      "plt.xlim([2, 56])\n",
      "plt.xticks(index+1.5, num_tokens)\n",
      "plt.legend()"
     ],
     "language": "python",
     "metadata": {},
     "outputs": [
      {
       "metadata": {},
       "output_type": "pyout",
       "prompt_number": 112,
       "text": [
        "<matplotlib.legend.Legend at 0x7fa088ee0e50>"
       ]
      },
      {
       "metadata": {},
       "output_type": "display_data",
       "png": "[encoded data removed]",
       "text": [
        "<matplotlib.figure.Figure at 0x7fa08904ecd0>"
       ]
      }
     ],
     "prompt_number": 112
    },
    {
     "cell_type": "code",
     "collapsed": false,
     "input": [
      "index = np.array(num_tokens)\n",
      "width = 1.5  \n",
      "\n",
      "fig, ax = plt.subplots()\n",
      "\n",
      "fig.set_size_inches(10,6)\n",
      "\n",
      "plt.title('F1 Score')\n",
      "ax.bar(index, latex_f1_scores, width, color='purple', label='LaTeX only features')\n",
      "ax.bar(index+width, latex_text_f1_scores, width, color='green', label='LaTeX & Text features')\n",
      "\n",
      "plt.xlim([2, 56])\n",
      "plt.xticks(index+1.5, num_tokens)\n",
      "plt.xlabel('Number of LaTeX features to use for each keyword')\n",
      "plt.legend()"
     ],
     "language": "python",
     "metadata": {},
     "outputs": [
      {
       "metadata": {},
       "output_type": "pyout",
       "prompt_number": 151,
       "text": [
        "<matplotlib.legend.Legend at 0x7fa0906eb090>"
       ]
      },
      {
       "metadata": {},
       "output_type": "display_data",
       "png": "[encoded data removed]",
       "text": [
        "<matplotlib.figure.Figure at 0x7fa08be1e450>"
       ]
      }
     ],
     "prompt_number": 151
    },
    {
     "cell_type": "code",
     "collapsed": false,
     "input": [
      "k = 20\n",
      "\n",
      "top_20_tags = tag_info.sort('count', ascending=False).head(k)\n",
      "\n",
      "for i in range(k):\n",
      "    y_true_kw = y_true[:,i]\n",
      "    y_pred_kw = y_pred[:,i]\n",
      "    \n",
      "    f1_kw = f1_score(y_true_kw, y_pred_kw)\n",
      "    \n",
      "    print '%s  %f ' % (top_20_tags.iloc[i]['keyword'], f1_kw)"
     ],
     "language": "python",
     "metadata": {},
     "outputs": [
      {
       "output_type": "stream",
       "stream": "stdout",
       "text": [
        "calculus  0.648649 \n",
        "algebra  0.000000 \n",
        "differentiation  0.000000 \n",
        "integration  0.000000 \n",
        "derivatives  0.000000 \n",
        "derivative  0.000000 \n",
        "product  0.625000 \n",
        "quotient  0.750000 \n",
        "functions  0.000000 \n",
        "integral  0.000000 \n",
        "integrals  0.000000 \n",
        "statistics  0.000000 \n",
        "multivariable  0.761905 \n",
        "trigonometry  0.000000 \n",
        "differential equations  0.000000 \n",
        "series  0.000000 "
       ]
      },
      {
       "output_type": "stream",
       "stream": "stdout",
       "text": [
        "\n",
        "limits  0.000000 \n",
        "probability  0.000000 \n",
        "financial mathematics  0.000000 \n",
        "substitution  0.800000 \n"
       ]
      }
     ],
     "prompt_number": 149
    },
    {
     "cell_type": "code",
     "collapsed": false,
     "input": [],
     "language": "python",
     "metadata": {},
     "outputs": []
    }
   ],
   "metadata": {}
  }
 ]
}